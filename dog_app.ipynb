{
 "cells": [
  {
   "cell_type": "markdown",
   "metadata": {},
   "source": [
    "# Artificial Intelligence Nanodegree\n",
    "\n",
    "## Convolutional Neural Networks\n",
    "\n",
    "## Project: Write an Algorithm for a Dog Identification App \n",
    "\n",
    "---\n",
    "\n",
    "In this notebook, some template code has already been provided for you, and you will need to implement additional functionality to successfully complete this project. You will not need to modify the included code beyond what is requested. Sections that begin with **'(IMPLEMENTATION)'** in the header indicate that the following block of code will require additional functionality which you must provide. Instructions will be provided for each section, and the specifics of the implementation are marked in the code block with a 'TODO' statement. Please be sure to read the instructions carefully! \n",
    "\n",
    "> **Note**: Once you have completed all of the code implementations, you need to finalize your work by exporting the iPython Notebook as an HTML document. Before exporting the notebook to html, all of the code cells need to have been run so that reviewers can see the final implementation and output. You can then export the notebook by using the menu above and navigating to  \\n\",\n",
    "    \"**File -> Download as -> HTML (.html)**. Include the finished document along with this notebook as your submission.\n",
    "\n",
    "In addition to implementing code, there will be questions that you must answer which relate to the project and your implementation. Each section where you will answer a question is preceded by a **'Question X'** header. Carefully read each question and provide thorough answers in the following text boxes that begin with **'Answer:'**. Your project submission will be evaluated based on your answers to each of the questions and the implementation you provide.\n",
    "\n",
    ">**Note:** Code and Markdown cells can be executed using the **Shift + Enter** keyboard shortcut.  Markdown cells can be edited by double-clicking the cell to enter edit mode.\n",
    "\n",
    "The rubric contains _optional_ \"Stand Out Suggestions\" for enhancing the project beyond the minimum requirements. If you decide to pursue the \"Stand Out Suggestions\", you should include the code in this IPython notebook.\n",
    "\n",
    "\n",
    "\n",
    "---\n",
    "### Why We're Here \n",
    "\n",
    "In this notebook, you will make the first steps towards developing an algorithm that could be used as part of a mobile or web app.  At the end of this project, your code will accept any user-supplied image as input.  If a dog is detected in the image, it will provide an estimate of the dog's breed.  If a human is detected, it will provide an estimate of the dog breed that is most resembling.  The image below displays potential sample output of your finished project (... but we expect that each student's algorithm will behave differently!). \n",
    "\n",
    "![Sample Dog Output](images/sample_dog_output.png)\n",
    "\n",
    "In this real-world setting, you will need to piece together a series of models to perform different tasks; for instance, the algorithm that detects humans in an image will be different from the CNN that infers dog breed.  There are many points of possible failure, and no perfect algorithm exists.  Your imperfect solution will nonetheless create a fun user experience!\n",
    "\n",
    "### The Road Ahead\n",
    "\n",
    "We break the notebook into separate steps.  Feel free to use the links below to navigate the notebook.\n",
    "\n",
    "* [Step 0](#step0): Import Datasets\n",
    "* [Step 1](#step1): Detect Humans\n",
    "* [Step 2](#step2): Detect Dogs\n",
    "* [Step 3](#step3): Create a CNN to Classify Dog Breeds (from Scratch)\n",
    "* [Step 4](#step4): Use a CNN to Classify Dog Breeds (using Transfer Learning)\n",
    "* [Step 5](#step5): Create a CNN to Classify Dog Breeds (using Transfer Learning)\n",
    "* [Step 6](#step6): Write your Algorithm\n",
    "* [Step 7](#step7): Test Your Algorithm\n",
    "\n",
    "---\n",
    "<a id='step0'></a>\n",
    "## Step 0: Import Datasets\n",
    "\n",
    "### Import Dog Dataset\n",
    "\n",
    "In the code cell below, we import a dataset of dog images.  We populate a few variables through the use of the `load_files` function from the scikit-learn library:\n",
    "- `train_files`, `valid_files`, `test_files` - numpy arrays containing file paths to images\n",
    "- `train_targets`, `valid_targets`, `test_targets` - numpy arrays containing onehot-encoded classification labels \n",
    "- `dog_names` - list of string-valued dog breed names for translating labels"
   ]
  },
  {
   "cell_type": "code",
   "execution_count": 1,
   "metadata": {},
   "outputs": [
    {
     "name": "stderr",
     "output_type": "stream",
     "text": [
      "Using TensorFlow backend.\n",
      "/home/leonardo/anaconda3/lib/python3.6/site-packages/h5py/__init__.py:36: FutureWarning: Conversion of the second argument of issubdtype from `float` to `np.floating` is deprecated. In future, it will be treated as `np.float64 == np.dtype(float).type`.\n",
      "  from ._conv import register_converters as _register_converters\n"
     ]
    },
    {
     "name": "stdout",
     "output_type": "stream",
     "text": [
      "There are 133 total dog categories.\n",
      "There are 8351 total dog images.\n",
      "\n",
      "There are 6680 training dog images.\n",
      "There are 835 validation dog images.\n",
      "There are 836 test dog images.\n"
     ]
    }
   ],
   "source": [
    "from sklearn.datasets import load_files       \n",
    "from keras.utils import np_utils\n",
    "import numpy as np\n",
    "from glob import glob\n",
    "\n",
    "# define function to load train, test, and validation datasets\n",
    "def load_dataset(path):\n",
    "    # Realiza o load da pasta indicada no Path\n",
    "    data = load_files(path)\n",
    "    # Pegando todos os nomes dos arquivos e colocando em um array\n",
    "    dog_files = np.array(data['filenames'])\n",
    "    # Pegando o nome de todas as raças e transformando em um \"one-hot\" matrix\n",
    "    # A binary matrix representation of the input. The classes axis is placed last.\n",
    "    dog_targets = np_utils.to_categorical(np.array(data['target']), 133)\n",
    "    \n",
    "    # return os valores de dogs_files e dog_targets\n",
    "    return dog_files, dog_targets\n",
    "\n",
    "# load train, test, and validation datasets\n",
    "# chamando a função criada acima, e colocando o path(caminho)\n",
    "# de cada pasta e colocando na respectiva pasta\n",
    "train_files, train_targets = load_dataset('dogImages/train')\n",
    "valid_files, valid_targets = load_dataset('dogImages/valid')\n",
    "test_files, test_targets = load_dataset('dogImages/test')\n",
    "\n",
    "# load list of dog names\n",
    "# Loop para extrair o nome das raças e joagndo em um array com as strings \"limpas\"\n",
    "# o valor 20 é por conta do \"path\" da imagem e o -1 para retirar uma / que havia no final do nome\n",
    "dog_names = [item[20:-1] for item in sorted(glob(\"dogImages/train/*/\"))]\n",
    "\n",
    "# print statistics about the dataset\n",
    "# Imprimindo os resultados na testa para conferência do total de valores\n",
    "print('There are %d total dog categories.' % len(dog_names))\n",
    "# np.hstack serve para empilhar arrays horizontalmente\n",
    "# colocando os 3 tempos o total do tamanho total das imagens\n",
    "print('There are %s total dog images.\\n' % len(np.hstack([train_files, valid_files, test_files])))\n",
    "# Verificando cada uma das divisões que realizamos\n",
    "print('There are %d training dog images.' % len(train_files))\n",
    "print('There are %d validation dog images.' % len(valid_files))\n",
    "print('There are %d test dog images.'% len(test_files))"
   ]
  },
  {
   "cell_type": "markdown",
   "metadata": {},
   "source": [
    "### Import Human Dataset\n",
    "\n",
    "In the code cell below, we import a dataset of human images, where the file paths are stored in the numpy array `human_files`."
   ]
  },
  {
   "cell_type": "code",
   "execution_count": 2,
   "metadata": {},
   "outputs": [
    {
     "name": "stdout",
     "output_type": "stream",
     "text": [
      "There are 13233 total human images.\n"
     ]
    }
   ],
   "source": [
    "import random\n",
    "random.seed(8675309)\n",
    "\n",
    "# load filenames in shuffled human dataset\n",
    "# caregando as imagens de fotos de humanos\n",
    "human_files = np.array(glob(\"lfw/*/*\"))\n",
    "\n",
    "# misturando as imagens que estavam todas ordenadas por pasta para não enviesar a rede\n",
    "random.shuffle(human_files)\n",
    "\n",
    "# print statistics about the dataset\n",
    "# imprimindo na tela o tamanho total das imagens de rostos humanos \n",
    "print('There are %d total human images.' % len(human_files))"
   ]
  },
  {
   "cell_type": "markdown",
   "metadata": {},
   "source": [
    "---\n",
    "<a id='step1'></a>\n",
    "## Step 1: Detect Humans\n",
    "\n",
    "We use OpenCV's implementation of [Haar feature-based cascade classifiers](http://docs.opencv.org/trunk/d7/d8b/tutorial_py_face_detection.html) to detect human faces in images.  OpenCV provides many pre-trained face detectors, stored as XML files on [github](https://github.com/opencv/opencv/tree/master/data/haarcascades).  We have downloaded one of these detectors and stored it in the `haarcascades` directory.\n",
    "\n",
    "In the next code cell, we demonstrate how to use this detector to find human faces in a sample image."
   ]
  },
  {
   "cell_type": "code",
   "execution_count": 3,
   "metadata": {},
   "outputs": [
    {
     "name": "stdout",
     "output_type": "stream",
     "text": [
      "Number of faces detected: 1\n"
     ]
    },
    {
     "data": {
      "image/png": "[encoded data removed]",
      "text/plain": [
       "<matplotlib.figure.Figure at 0x7f3938db61d0>"
      ]
     },
     "metadata": {},
     "output_type": "display_data"
    }
   ],
   "source": [
    "# importando as bibliotecas necessárias\n",
    "import cv2                \n",
    "import matplotlib.pyplot as plt                        \n",
    "%matplotlib inline                               \n",
    "\n",
    "# extract pre-trained face detector\n",
    "# carregando o algoritimo pre-treinado capaz de reconhecer rostos humanos\n",
    "face_cascade = cv2.CascadeClassifier('haarcascades/haarcascade_frontalface_alt.xml')\n",
    "\n",
    "# load color (BGR) image\n",
    "# carregando o array da primeira imagem de rostos humanos\n",
    "# o default do carregamento são imagens em BGR\n",
    "img = cv2.imread(human_files[0])\n",
    "\n",
    "# convert BGR image to grayscale\n",
    "# Convertendo a imagem de GBR para GrayScale\n",
    "gray = cv2.cvtColor(img, cv2.COLOR_BGR2GRAY)\n",
    "\n",
    "# find faces in image\n",
    "# Detects objects of different sizes in the input image. \n",
    "# The detected objects are returned as a list of rectangles.\n",
    "# Detecta a localização onde tem o rosto\n",
    "# retorn uma lista de retangulos\n",
    "faces = face_cascade.detectMultiScale(gray)\n",
    "\n",
    "# print number of faces detected in the image\n",
    "# printa o total de rostos encontrados\n",
    "print('Number of faces detected:', len(faces))\n",
    "\n",
    "# get bounding box for each detected face\n",
    "# função para desenhar o retangulo na imagem\n",
    "# utilizando a variável onde a detecção da face foi feita\n",
    "for (x,y,w,h) in faces:\n",
    "    # add bounding box to color image\n",
    "    # desenhando o retangulo para marcar a face\n",
    "    # setando a posição vertical e horizontal\n",
    "    # também os valores de largura e comprimento\n",
    "    # por último as cores (em RGB) e a espessura da linha\n",
    "    cv2.rectangle(img, (x,y),(x+w,y+h),(98,200,122),3)\n",
    "\n",
    "# convert BGR image to RGB for plotting\n",
    "# transformando a imagem em RGB usando a função cvtColor \"convert color\"\n",
    "cv_rgb = cv2.cvtColor(img, cv2.COLOR_BGR2RGB)\n",
    "\n",
    "# display the image, along with bounding box\n",
    "# mostrando a imagem com o retangula da detecção\n",
    "plt.imshow(cv_rgb)\n",
    "plt.show()"
   ]
  },
  {
   "cell_type": "markdown",
   "metadata": {},
   "source": [
    "Before using any of the face detectors, it is standard procedure to convert the images to grayscale.  The `detectMultiScale` function executes the classifier stored in `face_cascade` and takes the grayscale image as a parameter.  \n",
    "\n",
    "In the above code, `faces` is a numpy array of detected faces, where each row corresponds to a detected face.  Each detected face is a 1D array with four entries that specifies the bounding box of the detected face.  The first two entries in the array (extracted in the above code as `x` and `y`) specify the horizontal and vertical positions of the top left corner of the bounding box.  The last two entries in the array (extracted here as `w` and `h`) specify the width and height of the box.\n",
    "\n",
    "### Write a Human Face Detector\n",
    "\n",
    "We can use this procedure to write a function that returns `True` if a human face is detected in an image and `False` otherwise.  This function, aptly named `face_detector`, takes a string-valued file path to an image as input and appears in the code block below."
   ]
  },
  {
   "cell_type": "code",
   "execution_count": 4,
   "metadata": {},
   "outputs": [
    {
     "data": {
      "text/plain": [
       "True"
      ]
     },
     "execution_count": 4,
     "metadata": {},
     "output_type": "execute_result"
    }
   ],
   "source": [
    "len(faces) > 0"
   ]
  },
  {
   "cell_type": "code",
   "execution_count": 5,
   "metadata": {},
   "outputs": [],
   "source": [
    "# returns \"True\" if face is detected in image stored at \n",
    "# criando o detector de face que retorn True ou False\n",
    "\n",
    "def face_detector(img_path):\n",
    "    # lendo a imagem e transformando no arra imge\n",
    "    img = cv2.imread(img_path)\n",
    "    # convertendo para escalas de cinza\n",
    "    gray = cv2.cvtColor(img, cv2.COLOR_BGR2GRAY)\n",
    "    # rodando o algoritimo de detecção de face \n",
    "    # que retornará um array com as coordenadas do rosto\n",
    "    faces = face_cascade.detectMultiScale(gray)\n",
    "    \n",
    "    # returna True ou False caso haja face huamana na imagem\n",
    "    return len(faces) > 0"
   ]
  },
  {
   "cell_type": "markdown",
   "metadata": {},
   "source": [
    "### (IMPLEMENTATION) Assess the Human Face Detector\n",
    "\n",
    "__Question 1:__ Use the code cell below to test the performance of the `face_detector` function.  \n",
    "- What percentage of the first 100 images in `human_files` have a detected human face?  \n",
    "- What percentage of the first 100 images in `dog_files` have a detected human face? \n",
    "\n",
    "Ideally, we would like 100% of human images with a detected face and 0% of dog images with a detected face.  You will see that our algorithm falls short of this goal, but still gives acceptable performance.  We extract the file paths for the first 100 images from each of the datasets and store them in the numpy arrays `human_files_short` and `dog_files_short`.\n",
    "\n",
    "# __Answer:__ "
   ]
  },
  {
   "cell_type": "code",
   "execution_count": 6,
   "metadata": {},
   "outputs": [
    {
     "name": "stdout",
     "output_type": "stream",
     "text": [
      "100.0 %\n",
      "12.0 %\n"
     ]
    }
   ],
   "source": [
    "# pegando as 100 primeiras imagens para o algoritimo \n",
    "# que implementamos na funçaão\n",
    "human_files_short = human_files[:100]\n",
    "dog_files_short = train_files[:100]\n",
    "\n",
    "# Do NOT modify the code above this line.\n",
    "\n",
    "## TODO: Test the performance of the face_detector algorithm \n",
    "## on the images in human_files_short and dog_files_short.\n",
    "\n",
    "# Loop pelas imagens de humanos e cachorros\n",
    "humans = [face_detector(img) for img in human_files_short]\n",
    "dogs = [face_detector(img) for img in dog_files_short]\n",
    "\n",
    "# pegando o % de imagens que contém faces humanas nos bancos de imagens\n",
    "humans_count = humans.count(True) / len(human_files_short) * 100\n",
    "dogs_count = dogs.count(True) / len(dog_files_short) * 100\n",
    "\n",
    "# imprimindo os valores\n",
    "print(humans_count,\"%\")\n",
    "print(dogs_count, \"%\")"
   ]
  },
  {
   "cell_type": "markdown",
   "metadata": {},
   "source": [
    "__Question 2:__ This algorithmic choice necessitates that we communicate to the user that we accept human images only when they provide a clear view of a face (otherwise, we risk having unneccessarily frustrated users!). In your opinion, is this a reasonable expectation to pose on the user? If not, can you think of a way to detect humans in images that does not necessitate an image with a clearly presented face?"
   ]
  },
  {
   "cell_type": "markdown",
   "metadata": {},
   "source": [
    "__Answer:__\n",
    "\n",
    "Acho que é necessário o aviso, pois muitas vezes as pessoas pensam que inteligência artificial é como algo \"mágico\" e tem muita expectativa que funcione, e não sabem que há determinados requisitos necessários. Como o algoritimo precisa captar determinadas características que precisam estar de uma forma específica, então, é necessário que informemos isso. E não consigo pensar em alguma forma de detectar um rosto sem que ele esteja presente de forma inteira.\n",
    "\n",
    "We suggest the face detector from OpenCV as a potential way to detect human images in your algorithm, but you are free to explore other approaches, especially approaches that make use of deep learning :).  Please use the code cell below to design and test your own face detection algorithm.  If you decide to pursue this _optional_ task, report performance on each of the datasets."
   ]
  },
  {
   "cell_type": "code",
   "execution_count": 7,
   "metadata": {},
   "outputs": [],
   "source": [
    "## (Optional) TODO: Report the performance of another  \n",
    "## face detection algorithm on the LFW dataset\n",
    "### Feel free to use as many code cells as needed."
   ]
  },
  {
   "cell_type": "markdown",
   "metadata": {},
   "source": [
    "---\n",
    "<a id='step2'></a>\n",
    "## Step 2: Detect Dogs\n",
    "\n",
    "In this section, we use a pre-trained [ResNet-50](http://ethereon.github.io/netscope/#/gist/db945b393d40bfa26006) model to detect dogs in images.  Our first line of code downloads the ResNet-50 model, along with weights that have been trained on [ImageNet](http://www.image-net.org/), a very large, very popular dataset used for image classification and other vision tasks.  ImageNet contains over 10 million URLs, each linking to an image containing an object from one of [1000 categories](https://gist.github.com/yrevar/942d3a0ac09ec9e5eb3a).  Given an image, this pre-trained ResNet-50 model returns a prediction (derived from the available categories in ImageNet) for the object that is contained in the image."
   ]
  },
  {
   "cell_type": "code",
   "execution_count": 8,
   "metadata": {},
   "outputs": [],
   "source": [
    "# Importando o modelo ResNet50\n",
    "from keras.applications.resnet50 import ResNet50\n",
    "\n",
    "# define ResNet50 model\n",
    "# Definindo o modelo com os pesos pré treinados\n",
    "ResNet50_model = ResNet50(weights='imagenet')"
   ]
  },
  {
   "cell_type": "code",
   "execution_count": 9,
   "metadata": {
    "scrolled": true
   },
   "outputs": [
    {
     "name": "stdout",
     "output_type": "stream",
     "text": [
      "____________________________________________________________________________________________________\n",
      "Layer (type)                     Output Shape          Param #     Connected to                     \n",
      "====================================================================================================\n",
      "input_1 (InputLayer)             (None, 224, 224, 3)   0                                            \n",
      "____________________________________________________________________________________________________\n",
      "zero_padding2d_1 (ZeroPadding2D) (None, 230, 230, 3)   0           input_1[0][0]                    \n",
      "____________________________________________________________________________________________________\n",
      "conv1 (Conv2D)                   (None, 112, 112, 64)  9472        zero_padding2d_1[0][0]           \n",
      "____________________________________________________________________________________________________\n",
      "bn_conv1 (BatchNormalization)    (None, 112, 112, 64)  256         conv1[0][0]                      \n",
      "____________________________________________________________________________________________________\n",
      "activation_1 (Activation)        (None, 112, 112, 64)  0           bn_conv1[0][0]                   \n",
      "____________________________________________________________________________________________________\n",
      "max_pooling2d_1 (MaxPooling2D)   (None, 55, 55, 64)    0           activation_1[0][0]               \n",
      "____________________________________________________________________________________________________\n",
      "res2a_branch2a (Conv2D)          (None, 55, 55, 64)    4160        max_pooling2d_1[0][0]            \n",
      "____________________________________________________________________________________________________\n",
      "bn2a_branch2a (BatchNormalizatio (None, 55, 55, 64)    256         res2a_branch2a[0][0]             \n",
      "____________________________________________________________________________________________________\n",
      "activation_2 (Activation)        (None, 55, 55, 64)    0           bn2a_branch2a[0][0]              \n",
      "____________________________________________________________________________________________________\n",
      "res2a_branch2b (Conv2D)          (None, 55, 55, 64)    36928       activation_2[0][0]               \n",
      "____________________________________________________________________________________________________\n",
      "bn2a_branch2b (BatchNormalizatio (None, 55, 55, 64)    256         res2a_branch2b[0][0]             \n",
      "____________________________________________________________________________________________________\n",
      "activation_3 (Activation)        (None, 55, 55, 64)    0           bn2a_branch2b[0][0]              \n",
      "____________________________________________________________________________________________________\n",
      "res2a_branch2c (Conv2D)          (None, 55, 55, 256)   16640       activation_3[0][0]               \n",
      "____________________________________________________________________________________________________\n",
      "res2a_branch1 (Conv2D)           (None, 55, 55, 256)   16640       max_pooling2d_1[0][0]            \n",
      "____________________________________________________________________________________________________\n",
      "bn2a_branch2c (BatchNormalizatio (None, 55, 55, 256)   1024        res2a_branch2c[0][0]             \n",
      "____________________________________________________________________________________________________\n",
      "bn2a_branch1 (BatchNormalization (None, 55, 55, 256)   1024        res2a_branch1[0][0]              \n",
      "____________________________________________________________________________________________________\n",
      "add_1 (Add)                      (None, 55, 55, 256)   0           bn2a_branch2c[0][0]              \n",
      "                                                                   bn2a_branch1[0][0]               \n",
      "____________________________________________________________________________________________________\n",
      "activation_4 (Activation)        (None, 55, 55, 256)   0           add_1[0][0]                      \n",
      "____________________________________________________________________________________________________\n",
      "res2b_branch2a (Conv2D)          (None, 55, 55, 64)    16448       activation_4[0][0]               \n",
      "____________________________________________________________________________________________________\n",
      "bn2b_branch2a (BatchNormalizatio (None, 55, 55, 64)    256         res2b_branch2a[0][0]             \n",
      "____________________________________________________________________________________________________\n",
      "activation_5 (Activation)        (None, 55, 55, 64)    0           bn2b_branch2a[0][0]              \n",
      "____________________________________________________________________________________________________\n",
      "res2b_branch2b (Conv2D)          (None, 55, 55, 64)    36928       activation_5[0][0]               \n",
      "____________________________________________________________________________________________________\n",
      "bn2b_branch2b (BatchNormalizatio (None, 55, 55, 64)    256         res2b_branch2b[0][0]             \n",
      "____________________________________________________________________________________________________\n",
      "activation_6 (Activation)        (None, 55, 55, 64)    0           bn2b_branch2b[0][0]              \n",
      "____________________________________________________________________________________________________\n",
      "res2b_branch2c (Conv2D)          (None, 55, 55, 256)   16640       activation_6[0][0]               \n",
      "____________________________________________________________________________________________________\n",
      "bn2b_branch2c (BatchNormalizatio (None, 55, 55, 256)   1024        res2b_branch2c[0][0]             \n",
      "____________________________________________________________________________________________________\n",
      "add_2 (Add)                      (None, 55, 55, 256)   0           bn2b_branch2c[0][0]              \n",
      "                                                                   activation_4[0][0]               \n",
      "____________________________________________________________________________________________________\n",
      "activation_7 (Activation)        (None, 55, 55, 256)   0           add_2[0][0]                      \n",
      "____________________________________________________________________________________________________\n",
      "res2c_branch2a (Conv2D)          (None, 55, 55, 64)    16448       activation_7[0][0]               \n",
      "____________________________________________________________________________________________________\n",
      "bn2c_branch2a (BatchNormalizatio (None, 55, 55, 64)    256         res2c_branch2a[0][0]             \n",
      "____________________________________________________________________________________________________\n",
      "activation_8 (Activation)        (None, 55, 55, 64)    0           bn2c_branch2a[0][0]              \n",
      "____________________________________________________________________________________________________\n",
      "res2c_branch2b (Conv2D)          (None, 55, 55, 64)    36928       activation_8[0][0]               \n",
      "____________________________________________________________________________________________________\n",
      "bn2c_branch2b (BatchNormalizatio (None, 55, 55, 64)    256         res2c_branch2b[0][0]             \n",
      "____________________________________________________________________________________________________\n",
      "activation_9 (Activation)        (None, 55, 55, 64)    0           bn2c_branch2b[0][0]              \n",
      "____________________________________________________________________________________________________\n",
      "res2c_branch2c (Conv2D)          (None, 55, 55, 256)   16640       activation_9[0][0]               \n",
      "____________________________________________________________________________________________________\n",
      "bn2c_branch2c (BatchNormalizatio (None, 55, 55, 256)   1024        res2c_branch2c[0][0]             \n",
      "____________________________________________________________________________________________________\n",
      "add_3 (Add)                      (None, 55, 55, 256)   0           bn2c_branch2c[0][0]              \n",
      "                                                                   activation_7[0][0]               \n",
      "____________________________________________________________________________________________________\n",
      "activation_10 (Activation)       (None, 55, 55, 256)   0           add_3[0][0]                      \n",
      "____________________________________________________________________________________________________\n",
      "res3a_branch2a (Conv2D)          (None, 28, 28, 128)   32896       activation_10[0][0]              \n",
      "____________________________________________________________________________________________________\n",
      "bn3a_branch2a (BatchNormalizatio (None, 28, 28, 128)   512         res3a_branch2a[0][0]             \n",
      "____________________________________________________________________________________________________\n",
      "activation_11 (Activation)       (None, 28, 28, 128)   0           bn3a_branch2a[0][0]              \n",
      "____________________________________________________________________________________________________\n",
      "res3a_branch2b (Conv2D)          (None, 28, 28, 128)   147584      activation_11[0][0]              \n",
      "____________________________________________________________________________________________________\n",
      "bn3a_branch2b (BatchNormalizatio (None, 28, 28, 128)   512         res3a_branch2b[0][0]             \n",
      "____________________________________________________________________________________________________\n",
      "activation_12 (Activation)       (None, 28, 28, 128)   0           bn3a_branch2b[0][0]              \n",
      "____________________________________________________________________________________________________\n",
      "res3a_branch2c (Conv2D)          (None, 28, 28, 512)   66048       activation_12[0][0]              \n",
      "____________________________________________________________________________________________________\n",
      "res3a_branch1 (Conv2D)           (None, 28, 28, 512)   131584      activation_10[0][0]              \n",
      "____________________________________________________________________________________________________\n",
      "bn3a_branch2c (BatchNormalizatio (None, 28, 28, 512)   2048        res3a_branch2c[0][0]             \n",
      "____________________________________________________________________________________________________\n",
      "bn3a_branch1 (BatchNormalization (None, 28, 28, 512)   2048        res3a_branch1[0][0]              \n",
      "____________________________________________________________________________________________________\n",
      "add_4 (Add)                      (None, 28, 28, 512)   0           bn3a_branch2c[0][0]              \n",
      "                                                                   bn3a_branch1[0][0]               \n",
      "____________________________________________________________________________________________________\n",
      "activation_13 (Activation)       (None, 28, 28, 512)   0           add_4[0][0]                      \n",
      "____________________________________________________________________________________________________\n",
      "res3b_branch2a (Conv2D)          (None, 28, 28, 128)   65664       activation_13[0][0]              \n",
      "____________________________________________________________________________________________________\n",
      "bn3b_branch2a (BatchNormalizatio (None, 28, 28, 128)   512         res3b_branch2a[0][0]             \n",
      "____________________________________________________________________________________________________\n",
      "activation_14 (Activation)       (None, 28, 28, 128)   0           bn3b_branch2a[0][0]              \n",
      "____________________________________________________________________________________________________\n",
      "res3b_branch2b (Conv2D)          (None, 28, 28, 128)   147584      activation_14[0][0]              \n",
      "____________________________________________________________________________________________________\n",
      "bn3b_branch2b (BatchNormalizatio (None, 28, 28, 128)   512         res3b_branch2b[0][0]             \n",
      "____________________________________________________________________________________________________\n",
      "activation_15 (Activation)       (None, 28, 28, 128)   0           bn3b_branch2b[0][0]              \n",
      "____________________________________________________________________________________________________\n",
      "res3b_branch2c (Conv2D)          (None, 28, 28, 512)   66048       activation_15[0][0]              \n",
      "____________________________________________________________________________________________________\n",
      "bn3b_branch2c (BatchNormalizatio (None, 28, 28, 512)   2048        res3b_branch2c[0][0]             \n",
      "____________________________________________________________________________________________________\n",
      "add_5 (Add)                      (None, 28, 28, 512)   0           bn3b_branch2c[0][0]              \n",
      "                                                                   activation_13[0][0]              \n",
      "____________________________________________________________________________________________________\n",
      "activation_16 (Activation)       (None, 28, 28, 512)   0           add_5[0][0]                      \n",
      "____________________________________________________________________________________________________\n",
      "res3c_branch2a (Conv2D)          (None, 28, 28, 128)   65664       activation_16[0][0]              \n",
      "____________________________________________________________________________________________________\n",
      "bn3c_branch2a (BatchNormalizatio (None, 28, 28, 128)   512         res3c_branch2a[0][0]             \n",
      "____________________________________________________________________________________________________\n",
      "activation_17 (Activation)       (None, 28, 28, 128)   0           bn3c_branch2a[0][0]              \n",
      "____________________________________________________________________________________________________\n",
      "res3c_branch2b (Conv2D)          (None, 28, 28, 128)   147584      activation_17[0][0]              \n",
      "____________________________________________________________________________________________________\n",
      "bn3c_branch2b (BatchNormalizatio (None, 28, 28, 128)   512         res3c_branch2b[0][0]             \n",
      "____________________________________________________________________________________________________\n",
      "activation_18 (Activation)       (None, 28, 28, 128)   0           bn3c_branch2b[0][0]              \n",
      "____________________________________________________________________________________________________\n",
      "res3c_branch2c (Conv2D)          (None, 28, 28, 512)   66048       activation_18[0][0]              \n",
      "____________________________________________________________________________________________________\n",
      "bn3c_branch2c (BatchNormalizatio (None, 28, 28, 512)   2048        res3c_branch2c[0][0]             \n",
      "____________________________________________________________________________________________________\n",
      "add_6 (Add)                      (None, 28, 28, 512)   0           bn3c_branch2c[0][0]              \n",
      "                                                                   activation_16[0][0]              \n",
      "____________________________________________________________________________________________________\n",
      "activation_19 (Activation)       (None, 28, 28, 512)   0           add_6[0][0]                      \n",
      "____________________________________________________________________________________________________\n",
      "res3d_branch2a (Conv2D)          (None, 28, 28, 128)   65664       activation_19[0][0]              \n",
      "____________________________________________________________________________________________________\n",
      "bn3d_branch2a (BatchNormalizatio (None, 28, 28, 128)   512         res3d_branch2a[0][0]             \n",
      "____________________________________________________________________________________________________\n",
      "activation_20 (Activation)       (None, 28, 28, 128)   0           bn3d_branch2a[0][0]              \n",
      "____________________________________________________________________________________________________\n",
      "res3d_branch2b (Conv2D)          (None, 28, 28, 128)   147584      activation_20[0][0]              \n",
      "____________________________________________________________________________________________________\n",
      "bn3d_branch2b (BatchNormalizatio (None, 28, 28, 128)   512         res3d_branch2b[0][0]             \n",
      "____________________________________________________________________________________________________\n",
      "activation_21 (Activation)       (None, 28, 28, 128)   0           bn3d_branch2b[0][0]              \n",
      "____________________________________________________________________________________________________\n",
      "res3d_branch2c (Conv2D)          (None, 28, 28, 512)   66048       activation_21[0][0]              \n",
      "____________________________________________________________________________________________________\n",
      "bn3d_branch2c (BatchNormalizatio (None, 28, 28, 512)   2048        res3d_branch2c[0][0]             \n",
      "____________________________________________________________________________________________________\n",
      "add_7 (Add)                      (None, 28, 28, 512)   0           bn3d_branch2c[0][0]              \n",
      "                                                                   activation_19[0][0]              \n",
      "____________________________________________________________________________________________________\n",
      "activation_22 (Activation)       (None, 28, 28, 512)   0           add_7[0][0]                      \n",
      "____________________________________________________________________________________________________\n",
      "res4a_branch2a (Conv2D)          (None, 14, 14, 256)   131328      activation_22[0][0]              \n",
      "____________________________________________________________________________________________________\n",
      "bn4a_branch2a (BatchNormalizatio (None, 14, 14, 256)   1024        res4a_branch2a[0][0]             \n",
      "____________________________________________________________________________________________________\n",
      "activation_23 (Activation)       (None, 14, 14, 256)   0           bn4a_branch2a[0][0]              \n",
      "____________________________________________________________________________________________________\n",
      "res4a_branch2b (Conv2D)          (None, 14, 14, 256)   590080      activation_23[0][0]              \n",
      "____________________________________________________________________________________________________\n",
      "bn4a_branch2b (BatchNormalizatio (None, 14, 14, 256)   1024        res4a_branch2b[0][0]             \n",
      "____________________________________________________________________________________________________\n",
      "activation_24 (Activation)       (None, 14, 14, 256)   0           bn4a_branch2b[0][0]              \n",
      "____________________________________________________________________________________________________\n",
      "res4a_branch2c (Conv2D)          (None, 14, 14, 1024)  263168      activation_24[0][0]              \n",
      "____________________________________________________________________________________________________\n",
      "res4a_branch1 (Conv2D)           (None, 14, 14, 1024)  525312      activation_22[0][0]              \n",
      "____________________________________________________________________________________________________\n",
      "bn4a_branch2c (BatchNormalizatio (None, 14, 14, 1024)  4096        res4a_branch2c[0][0]             \n",
      "____________________________________________________________________________________________________\n",
      "bn4a_branch1 (BatchNormalization (None, 14, 14, 1024)  4096        res4a_branch1[0][0]              \n",
      "____________________________________________________________________________________________________\n",
      "add_8 (Add)                      (None, 14, 14, 1024)  0           bn4a_branch2c[0][0]              \n",
      "                                                                   bn4a_branch1[0][0]               \n",
      "____________________________________________________________________________________________________\n",
      "activation_25 (Activation)       (None, 14, 14, 1024)  0           add_8[0][0]                      \n",
      "____________________________________________________________________________________________________\n",
      "res4b_branch2a (Conv2D)          (None, 14, 14, 256)   262400      activation_25[0][0]              \n",
      "____________________________________________________________________________________________________\n",
      "bn4b_branch2a (BatchNormalizatio (None, 14, 14, 256)   1024        res4b_branch2a[0][0]             \n",
      "____________________________________________________________________________________________________\n",
      "activation_26 (Activation)       (None, 14, 14, 256)   0           bn4b_branch2a[0][0]              \n",
      "____________________________________________________________________________________________________\n",
      "res4b_branch2b (Conv2D)          (None, 14, 14, 256)   590080      activation_26[0][0]              \n",
      "____________________________________________________________________________________________________\n",
      "bn4b_branch2b (BatchNormalizatio (None, 14, 14, 256)   1024        res4b_branch2b[0][0]             \n",
      "____________________________________________________________________________________________________\n",
      "activation_27 (Activation)       (None, 14, 14, 256)   0           bn4b_branch2b[0][0]              \n",
      "____________________________________________________________________________________________________\n",
      "res4b_branch2c (Conv2D)          (None, 14, 14, 1024)  263168      activation_27[0][0]              \n",
      "____________________________________________________________________________________________________\n",
      "bn4b_branch2c (BatchNormalizatio (None, 14, 14, 1024)  4096        res4b_branch2c[0][0]             \n",
      "____________________________________________________________________________________________________\n",
      "add_9 (Add)                      (None, 14, 14, 1024)  0           bn4b_branch2c[0][0]              \n",
      "                                                                   activation_25[0][0]              \n",
      "____________________________________________________________________________________________________\n",
      "activation_28 (Activation)       (None, 14, 14, 1024)  0           add_9[0][0]                      \n",
      "____________________________________________________________________________________________________\n",
      "res4c_branch2a (Conv2D)          (None, 14, 14, 256)   262400      activation_28[0][0]              \n",
      "____________________________________________________________________________________________________\n",
      "bn4c_branch2a (BatchNormalizatio (None, 14, 14, 256)   1024        res4c_branch2a[0][0]             \n",
      "____________________________________________________________________________________________________\n",
      "activation_29 (Activation)       (None, 14, 14, 256)   0           bn4c_branch2a[0][0]              \n",
      "____________________________________________________________________________________________________\n",
      "res4c_branch2b (Conv2D)          (None, 14, 14, 256)   590080      activation_29[0][0]              \n",
      "____________________________________________________________________________________________________\n",
      "bn4c_branch2b (BatchNormalizatio (None, 14, 14, 256)   1024        res4c_branch2b[0][0]             \n",
      "____________________________________________________________________________________________________\n",
      "activation_30 (Activation)       (None, 14, 14, 256)   0           bn4c_branch2b[0][0]              \n",
      "____________________________________________________________________________________________________\n",
      "res4c_branch2c (Conv2D)          (None, 14, 14, 1024)  263168      activation_30[0][0]              \n",
      "____________________________________________________________________________________________________\n",
      "bn4c_branch2c (BatchNormalizatio (None, 14, 14, 1024)  4096        res4c_branch2c[0][0]             \n",
      "____________________________________________________________________________________________________\n",
      "add_10 (Add)                     (None, 14, 14, 1024)  0           bn4c_branch2c[0][0]              \n",
      "                                                                   activation_28[0][0]              \n",
      "____________________________________________________________________________________________________\n",
      "activation_31 (Activation)       (None, 14, 14, 1024)  0           add_10[0][0]                     \n",
      "____________________________________________________________________________________________________\n",
      "res4d_branch2a (Conv2D)          (None, 14, 14, 256)   262400      activation_31[0][0]              \n",
      "____________________________________________________________________________________________________\n",
      "bn4d_branch2a (BatchNormalizatio (None, 14, 14, 256)   1024        res4d_branch2a[0][0]             \n",
      "____________________________________________________________________________________________________\n",
      "activation_32 (Activation)       (None, 14, 14, 256)   0           bn4d_branch2a[0][0]              \n",
      "____________________________________________________________________________________________________\n",
      "res4d_branch2b (Conv2D)          (None, 14, 14, 256)   590080      activation_32[0][0]              \n",
      "____________________________________________________________________________________________________\n",
      "bn4d_branch2b (BatchNormalizatio (None, 14, 14, 256)   1024        res4d_branch2b[0][0]             \n",
      "____________________________________________________________________________________________________\n",
      "activation_33 (Activation)       (None, 14, 14, 256)   0           bn4d_branch2b[0][0]              \n",
      "____________________________________________________________________________________________________\n",
      "res4d_branch2c (Conv2D)          (None, 14, 14, 1024)  263168      activation_33[0][0]              \n",
      "____________________________________________________________________________________________________\n",
      "bn4d_branch2c (BatchNormalizatio (None, 14, 14, 1024)  4096        res4d_branch2c[0][0]             \n",
      "____________________________________________________________________________________________________\n",
      "add_11 (Add)                     (None, 14, 14, 1024)  0           bn4d_branch2c[0][0]              \n",
      "                                                                   activation_31[0][0]              \n",
      "____________________________________________________________________________________________________\n",
      "activation_34 (Activation)       (None, 14, 14, 1024)  0           add_11[0][0]                     \n",
      "____________________________________________________________________________________________________\n",
      "res4e_branch2a (Conv2D)          (None, 14, 14, 256)   262400      activation_34[0][0]              \n",
      "____________________________________________________________________________________________________\n",
      "bn4e_branch2a (BatchNormalizatio (None, 14, 14, 256)   1024        res4e_branch2a[0][0]             \n",
      "____________________________________________________________________________________________________\n",
      "activation_35 (Activation)       (None, 14, 14, 256)   0           bn4e_branch2a[0][0]              \n",
      "____________________________________________________________________________________________________\n",
      "res4e_branch2b (Conv2D)          (None, 14, 14, 256)   590080      activation_35[0][0]              \n",
      "____________________________________________________________________________________________________\n",
      "bn4e_branch2b (BatchNormalizatio (None, 14, 14, 256)   1024        res4e_branch2b[0][0]             \n",
      "____________________________________________________________________________________________________\n",
      "activation_36 (Activation)       (None, 14, 14, 256)   0           bn4e_branch2b[0][0]              \n",
      "____________________________________________________________________________________________________\n",
      "res4e_branch2c (Conv2D)          (None, 14, 14, 1024)  263168      activation_36[0][0]              \n",
      "____________________________________________________________________________________________________\n",
      "bn4e_branch2c (BatchNormalizatio (None, 14, 14, 1024)  4096        res4e_branch2c[0][0]             \n",
      "____________________________________________________________________________________________________\n",
      "add_12 (Add)                     (None, 14, 14, 1024)  0           bn4e_branch2c[0][0]              \n",
      "                                                                   activation_34[0][0]              \n",
      "____________________________________________________________________________________________________\n",
      "activation_37 (Activation)       (None, 14, 14, 1024)  0           add_12[0][0]                     \n",
      "____________________________________________________________________________________________________\n",
      "res4f_branch2a (Conv2D)          (None, 14, 14, 256)   262400      activation_37[0][0]              \n",
      "____________________________________________________________________________________________________\n",
      "bn4f_branch2a (BatchNormalizatio (None, 14, 14, 256)   1024        res4f_branch2a[0][0]             \n",
      "____________________________________________________________________________________________________\n",
      "activation_38 (Activation)       (None, 14, 14, 256)   0           bn4f_branch2a[0][0]              \n",
      "____________________________________________________________________________________________________\n",
      "res4f_branch2b (Conv2D)          (None, 14, 14, 256)   590080      activation_38[0][0]              \n",
      "____________________________________________________________________________________________________\n",
      "bn4f_branch2b (BatchNormalizatio (None, 14, 14, 256)   1024        res4f_branch2b[0][0]             \n",
      "____________________________________________________________________________________________________\n",
      "activation_39 (Activation)       (None, 14, 14, 256)   0           bn4f_branch2b[0][0]              \n",
      "____________________________________________________________________________________________________\n",
      "res4f_branch2c (Conv2D)          (None, 14, 14, 1024)  263168      activation_39[0][0]              \n",
      "____________________________________________________________________________________________________\n",
      "bn4f_branch2c (BatchNormalizatio (None, 14, 14, 1024)  4096        res4f_branch2c[0][0]             \n",
      "____________________________________________________________________________________________________\n",
      "add_13 (Add)                     (None, 14, 14, 1024)  0           bn4f_branch2c[0][0]              \n",
      "                                                                   activation_37[0][0]              \n",
      "____________________________________________________________________________________________________\n",
      "activation_40 (Activation)       (None, 14, 14, 1024)  0           add_13[0][0]                     \n",
      "____________________________________________________________________________________________________\n",
      "res5a_branch2a (Conv2D)          (None, 7, 7, 512)     524800      activation_40[0][0]              \n",
      "____________________________________________________________________________________________________\n",
      "bn5a_branch2a (BatchNormalizatio (None, 7, 7, 512)     2048        res5a_branch2a[0][0]             \n",
      "____________________________________________________________________________________________________\n",
      "activation_41 (Activation)       (None, 7, 7, 512)     0           bn5a_branch2a[0][0]              \n",
      "____________________________________________________________________________________________________\n",
      "res5a_branch2b (Conv2D)          (None, 7, 7, 512)     2359808     activation_41[0][0]              \n",
      "____________________________________________________________________________________________________\n",
      "bn5a_branch2b (BatchNormalizatio (None, 7, 7, 512)     2048        res5a_branch2b[0][0]             \n",
      "____________________________________________________________________________________________________\n",
      "activation_42 (Activation)       (None, 7, 7, 512)     0           bn5a_branch2b[0][0]              \n",
      "____________________________________________________________________________________________________\n",
      "res5a_branch2c (Conv2D)          (None, 7, 7, 2048)    1050624     activation_42[0][0]              \n",
      "____________________________________________________________________________________________________\n",
      "res5a_branch1 (Conv2D)           (None, 7, 7, 2048)    2099200     activation_40[0][0]              \n",
      "____________________________________________________________________________________________________\n",
      "bn5a_branch2c (BatchNormalizatio (None, 7, 7, 2048)    8192        res5a_branch2c[0][0]             \n",
      "____________________________________________________________________________________________________\n",
      "bn5a_branch1 (BatchNormalization (None, 7, 7, 2048)    8192        res5a_branch1[0][0]              \n",
      "____________________________________________________________________________________________________\n",
      "add_14 (Add)                     (None, 7, 7, 2048)    0           bn5a_branch2c[0][0]              \n",
      "                                                                   bn5a_branch1[0][0]               \n",
      "____________________________________________________________________________________________________\n",
      "activation_43 (Activation)       (None, 7, 7, 2048)    0           add_14[0][0]                     \n",
      "____________________________________________________________________________________________________\n",
      "res5b_branch2a (Conv2D)          (None, 7, 7, 512)     1049088     activation_43[0][0]              \n",
      "____________________________________________________________________________________________________\n",
      "bn5b_branch2a (BatchNormalizatio (None, 7, 7, 512)     2048        res5b_branch2a[0][0]             \n",
      "____________________________________________________________________________________________________\n",
      "activation_44 (Activation)       (None, 7, 7, 512)     0           bn5b_branch2a[0][0]              \n",
      "____________________________________________________________________________________________________\n",
      "res5b_branch2b (Conv2D)          (None, 7, 7, 512)     2359808     activation_44[0][0]              \n",
      "____________________________________________________________________________________________________\n",
      "bn5b_branch2b (BatchNormalizatio (None, 7, 7, 512)     2048        res5b_branch2b[0][0]             \n",
      "____________________________________________________________________________________________________\n",
      "activation_45 (Activation)       (None, 7, 7, 512)     0           bn5b_branch2b[0][0]              \n",
      "____________________________________________________________________________________________________\n",
      "res5b_branch2c (Conv2D)          (None, 7, 7, 2048)    1050624     activation_45[0][0]              \n",
      "____________________________________________________________________________________________________\n",
      "bn5b_branch2c (BatchNormalizatio (None, 7, 7, 2048)    8192        res5b_branch2c[0][0]             \n",
      "____________________________________________________________________________________________________\n",
      "add_15 (Add)                     (None, 7, 7, 2048)    0           bn5b_branch2c[0][0]              \n",
      "                                                                   activation_43[0][0]              \n",
      "____________________________________________________________________________________________________\n",
      "activation_46 (Activation)       (None, 7, 7, 2048)    0           add_15[0][0]                     \n",
      "____________________________________________________________________________________________________\n",
      "res5c_branch2a (Conv2D)          (None, 7, 7, 512)     1049088     activation_46[0][0]              \n",
      "____________________________________________________________________________________________________\n",
      "bn5c_branch2a (BatchNormalizatio (None, 7, 7, 512)     2048        res5c_branch2a[0][0]             \n",
      "____________________________________________________________________________________________________\n",
      "activation_47 (Activation)       (None, 7, 7, 512)     0           bn5c_branch2a[0][0]              \n",
      "____________________________________________________________________________________________________\n",
      "res5c_branch2b (Conv2D)          (None, 7, 7, 512)     2359808     activation_47[0][0]              \n",
      "____________________________________________________________________________________________________\n",
      "bn5c_branch2b (BatchNormalizatio (None, 7, 7, 512)     2048        res5c_branch2b[0][0]             \n",
      "____________________________________________________________________________________________________\n",
      "activation_48 (Activation)       (None, 7, 7, 512)     0           bn5c_branch2b[0][0]              \n",
      "____________________________________________________________________________________________________\n",
      "res5c_branch2c (Conv2D)          (None, 7, 7, 2048)    1050624     activation_48[0][0]              \n",
      "____________________________________________________________________________________________________\n",
      "bn5c_branch2c (BatchNormalizatio (None, 7, 7, 2048)    8192        res5c_branch2c[0][0]             \n",
      "____________________________________________________________________________________________________\n",
      "add_16 (Add)                     (None, 7, 7, 2048)    0           bn5c_branch2c[0][0]              \n",
      "                                                                   activation_46[0][0]              \n",
      "____________________________________________________________________________________________________\n",
      "activation_49 (Activation)       (None, 7, 7, 2048)    0           add_16[0][0]                     \n",
      "____________________________________________________________________________________________________\n",
      "avg_pool (AveragePooling2D)      (None, 1, 1, 2048)    0           activation_49[0][0]              \n",
      "____________________________________________________________________________________________________\n",
      "flatten_1 (Flatten)              (None, 2048)          0           avg_pool[0][0]                   \n",
      "____________________________________________________________________________________________________\n",
      "fc1000 (Dense)                   (None, 1000)          2049000     flatten_1[0][0]                  \n",
      "====================================================================================================\n",
      "Total params: 25,636,712\n",
      "Trainable params: 25,583,592\n",
      "Non-trainable params: 53,120\n",
      "____________________________________________________________________________________________________\n"
     ]
    }
   ],
   "source": [
    "# Um resumo do modelo\n",
    "ResNet50_model.summary()"
   ]
  },
  {
   "cell_type": "markdown",
   "metadata": {},
   "source": [
    "### Pre-process the Data\n",
    "\n",
    "When using TensorFlow as backend, Keras CNNs require a 4D array (which we'll also refer to as a 4D tensor) as input, with shape\n",
    "\n",
    "$$\n",
    "(\\text{nb_samples}, \\text{rows}, \\text{columns}, \\text{channels}),\n",
    "$$\n",
    "\n",
    "where `nb_samples` corresponds to the total number of images (or samples), and `rows`, `columns`, and `channels` correspond to the number of rows, columns, and channels for each image, respectively.  \n",
    "\n",
    "The `path_to_tensor` function below takes a string-valued file path to a color image as input and returns a 4D tensor suitable for supplying to a Keras CNN.  The function first loads the image and resizes it to a square image that is $224 \\times 224$ pixels.  Next, the image is converted to an array, which is then resized to a 4D tensor.  In this case, since we are working with color images, each image has three channels.  Likewise, since we are processing a single image (or sample), the returned tensor will always have shape\n",
    "\n",
    "$$\n",
    "(1, 224, 224, 3).\n",
    "$$\n",
    "\n",
    "The `paths_to_tensor` function takes a numpy array of string-valued image paths as input and returns a 4D tensor with shape \n",
    "\n",
    "$$\n",
    "(\\text{nb_samples}, 224, 224, 3).\n",
    "$$\n",
    "\n",
    "Here, `nb_samples` is the number of samples, or number of images, in the supplied array of image paths.  It is best to think of `nb_samples` as the number of 3D tensors (where each 3D tensor corresponds to a different image) in your dataset!"
   ]
  },
  {
   "cell_type": "code",
   "execution_count": 10,
   "metadata": {},
   "outputs": [],
   "source": [
    "from keras.preprocessing import image                  \n",
    "from tqdm import tqdm\n",
    "\n",
    "def path_to_tensor(img_path):\n",
    "    # loads RGB image as PIL.Image.Image type\n",
    "    # Carrega a imagem RGB como tipo image do keras.preprocessing.image \n",
    "    img = image.load_img(img_path, target_size=(224, 224))\n",
    "    # convert PIL.Image.Image type to 3D tensor with shape (224, 224, 3)\n",
    "    # converte a imagem para um array 3D de dimensões 224,224,3\n",
    "    x = image.img_to_array(img)\n",
    "    # convert 3D tensor to 4D tensor with shape (1, 224, 224, 3) and return 4D tensor\n",
    "    # Expand dims vai transformar o tensor 3D em um tensor 4D \n",
    "    # com formato 1, 224, 224, 3 e retornar o tensor 4d\n",
    "    return np.expand_dims(x, axis=0)\n",
    "\n",
    "def paths_to_tensor(img_paths):\n",
    "    # chamando a função que transforma imagem em tensores\n",
    "    # calculando o tempo com tqdm\n",
    "    list_of_tensors = [path_to_tensor(img_path) for img_path in tqdm(img_paths)]\n",
    "\n",
    "    # \"Empilhando\" as imagens para termos o shape 4D correto\n",
    "    # output será o (nb, w, h, dims)\n",
    "    return np.vstack(list_of_tensors)"
   ]
  },
  {
   "cell_type": "markdown",
   "metadata": {},
   "source": [
    "### Making Predictions with ResNet-50\n",
    "\n",
    "Getting the 4D tensor ready for ResNet-50, and for any other pre-trained model in Keras, requires some additional processing.  First, the RGB image is converted to BGR by reordering the channels.  All pre-trained models have the additional normalization step that the mean pixel (expressed in RGB as $[103.939, 116.779, 123.68]$ and calculated from all pixels in all images in ImageNet) must be subtracted from every pixel in each image.  This is implemented in the imported function `preprocess_input`.  If you're curious, you can check the code for `preprocess_input` [here](https://github.com/fchollet/keras/blob/master/keras/applications/imagenet_utils.py).\n",
    "\n",
    "Now that we have a way to format our image for supplying to ResNet-50, we are now ready to use the model to extract the predictions.  This is accomplished with the `predict` method, which returns an array whose $i$-th entry is the model's predicted probability that the image belongs to the $i$-th ImageNet category.  This is implemented in the `ResNet50_predict_labels` function below.\n",
    "\n",
    "By taking the argmax of the predicted probability vector, we obtain an integer corresponding to the model's predicted object class, which we can identify with an object category through the use of this [dictionary](https://gist.github.com/yrevar/942d3a0ac09ec9e5eb3a). "
   ]
  },
  {
   "cell_type": "code",
   "execution_count": 11,
   "metadata": {},
   "outputs": [],
   "source": [
    "from keras.applications.resnet50 import preprocess_input, decode_predictions\n",
    "\n",
    "def ResNet50_predict_labels(img_path):\n",
    "    # returns prediction vector for image located at img_path\n",
    "    \n",
    "    # Nesse caso, com o nosso array 4D vamos normalizar os valores, \n",
    "    # ele era transformar em um array 224, transformar em array, expandir as dimensões e também\n",
    "    # divididir pela média de cada de cada canal de cor\n",
    "    img = preprocess_input(path_to_tensor(img_path))\n",
    "    \n",
    "    # retorna o valor com maior probabilidade do modelo\n",
    "    # que seria a predição realizada pelo modelo\n",
    "    return np.argmax(ResNet50_model.predict(img))"
   ]
  },
  {
   "cell_type": "markdown",
   "metadata": {},
   "source": [
    "### Write a Dog Detector\n",
    "\n",
    "While looking at the [dictionary](https://gist.github.com/yrevar/942d3a0ac09ec9e5eb3a), you will notice that the categories corresponding to dogs appear in an uninterrupted sequence and correspond to dictionary keys 151-268, inclusive, to include all categories from `'Chihuahua'` to `'Mexican hairless'`.  Thus, in order to check to see if an image is predicted to contain a dog by the pre-trained ResNet-50 model, we need only check if the `ResNet50_predict_labels` function above returns a value between 151 and 268 (inclusive).\n",
    "\n",
    "We use these ideas to complete the `dog_detector` function below, which returns `True` if a dog is detected in an image (and `False` if not)."
   ]
  },
  {
   "cell_type": "code",
   "execution_count": 12,
   "metadata": {},
   "outputs": [],
   "source": [
    "### returns \"True\" if a dog is detected in the image stored at img_path\n",
    "# Vai retornar \"True\" se houver um cachorro na imagem que alimentou a rede\n",
    "def dog_detector(img_path):\n",
    "    #vai chamar a função criada à cima e retornar verdadeiro um array de True or False\n",
    "    prediction = ResNet50_predict_labels(img_path)\n",
    "    # Retorna se o valor predito está dentro ou fora do range da raça dos cachorros\n",
    "    return ((prediction <= 268) & (prediction >= 151)) "
   ]
  },
  {
   "cell_type": "markdown",
   "metadata": {},
   "source": [
    "### (IMPLEMENTATION) Assess the Dog Detector\n",
    "\n",
    "__Question 3:__ Use the code cell below to test the performance of your `dog_detector` function.  \n",
    "- What percentage of the images in `human_files_short` have a detected dog?  \n",
    "- What percentage of the images in `dog_files_short` have a detected dog?\n",
    "\n",
    "__Answer:__ "
   ]
  },
  {
   "cell_type": "code",
   "execution_count": 13,
   "metadata": {},
   "outputs": [
    {
     "name": "stdout",
     "output_type": "stream",
     "text": [
      "1.0 %\n",
      "100.0 %\n"
     ]
    }
   ],
   "source": [
    "### TODO: Test the performance of the dog_detector function\n",
    "### on the images in human_files_short and dog_files_short.\n",
    "\n",
    "# Loop pelas imagens de humanos e cachorros, \n",
    "# da mesma forma que a detecção de rostos humanos\n",
    "humans_img = [dog_detector(img) for img in human_files_short]\n",
    "dogs_img = [dog_detector(img) for img in dog_files_short]\n",
    "\n",
    "# pegando o % de imagens que contém faces humanas nos bancos de imagens\n",
    "humans_count = humans_img.count(True) / len(human_files_short) * 100\n",
    "dogs_count = dogs_img.count(True) / len(dog_files_short) * 100\n",
    "\n",
    "# imprimindo os valores\n",
    "print(humans_count,\"%\")\n",
    "print(dogs_count, \"%\")"
   ]
  },
  {
   "cell_type": "markdown",
   "metadata": {},
   "source": [
    "---\n",
    "<a id='step3'></a>\n",
    "## Step 3: Create a CNN to Classify Dog Breeds (from Scratch)\n",
    "\n",
    "Now that we have functions for detecting humans and dogs in images, we need a way to predict breed from images.  In this step, you will create a CNN that classifies dog breeds.  You must create your CNN _from scratch_ (so, you can't use transfer learning _yet_!), and you must attain a test accuracy of at least 1%.  In Step 5 of this notebook, you will have the opportunity to use transfer learning to create a CNN that attains greatly improved accuracy.\n",
    "\n",
    "Be careful with adding too many trainable layers!  More parameters means longer training, which means you are more likely to need a GPU to accelerate the training process.  Thankfully, Keras provides a handy estimate of the time that each epoch is likely to take; you can extrapolate this estimate to figure out how long it will take for your algorithm to train. \n",
    "\n",
    "We mention that the task of assigning breed to dogs from images is considered exceptionally challenging.  To see why, consider that *even a human* would have great difficulty in distinguishing between a Brittany and a Welsh Springer Spaniel.  \n",
    "\n",
    "Brittany | Welsh Springer Spaniel\n",
    "- | - \n",
    "<img src=\"images/Brittany_02625.jpg\" width=\"100\"> | <img src=\"images/Welsh_springer_spaniel_08203.jpg\" width=\"200\">\n",
    "\n",
    "It is not difficult to find other dog breed pairs with minimal inter-class variation (for instance, Curly-Coated Retrievers and American Water Spaniels).  \n",
    "\n",
    "Curly-Coated Retriever | American Water Spaniel\n",
    "- | -\n",
    "<img src=\"images/Curly-coated_retriever_03896.jpg\" width=\"200\"> | <img src=\"images/American_water_spaniel_00648.jpg\" width=\"200\">\n",
    "\n",
    "\n",
    "Likewise, recall that labradors come in yellow, chocolate, and black.  Your vision-based algorithm will have to conquer this high intra-class variation to determine how to classify all of these different shades as the same breed.  \n",
    "\n",
    "Yellow Labrador | Chocolate Labrador | Black Labrador\n",
    "- | -\n",
    "<img src=\"images/Labrador_retriever_06457.jpg\" width=\"150\"> | <img src=\"images/Labrador_retriever_06455.jpg\" width=\"240\"> | <img src=\"images/Labrador_retriever_06449.jpg\" width=\"220\">\n",
    "\n",
    "We also mention that random chance presents an exceptionally low bar: setting aside the fact that the classes are slightly imabalanced, a random guess will provide a correct answer roughly 1 in 133 times, which corresponds to an accuracy of less than 1%.  \n",
    "\n",
    "Remember that the practice is far ahead of the theory in deep learning.  Experiment with many different architectures, and trust your intuition.  And, of course, have fun! \n",
    "\n",
    "### Pre-process the Data\n",
    "\n",
    "We rescale the images by dividing every pixel in every image by 255."
   ]
  },
  {
   "cell_type": "code",
   "execution_count": 14,
   "metadata": {},
   "outputs": [
    {
     "name": "stderr",
     "output_type": "stream",
     "text": [
      "100%|██████████| 6680/6680 [00:37<00:00, 180.54it/s]\n",
      "100%|██████████| 835/835 [00:04<00:00, 173.50it/s]\n",
      "100%|██████████| 836/836 [00:05<00:00, 165.55it/s]\n"
     ]
    }
   ],
   "source": [
    "from PIL import ImageFile                            \n",
    "ImageFile.LOAD_TRUNCATED_IMAGES = True                 \n",
    "\n",
    "# pre-process the data for Keras\n",
    "# Carregando e preprocessando as imagens\n",
    "# os valores serão float e divididos por 255 que normalizará os dados num range de 0 e 1\n",
    "train_tensors = paths_to_tensor(train_files).astype('float32')/255\n",
    "valid_tensors = paths_to_tensor(valid_files).astype('float32')/255\n",
    "test_tensors = paths_to_tensor(test_files).astype('float32')/255"
   ]
  },
  {
   "cell_type": "code",
   "execution_count": 15,
   "metadata": {},
   "outputs": [
    {
     "name": "stdout",
     "output_type": "stream",
     "text": [
      "(6680, 224, 224, 3)\n",
      "(835, 224, 224, 3)\n",
      "(836, 224, 224, 3)\n"
     ]
    }
   ],
   "source": [
    "print(train_tensors.shape)\n",
    "print(valid_tensors.shape)\n",
    "print(test_tensors.shape)"
   ]
  },
  {
   "cell_type": "markdown",
   "metadata": {},
   "source": [
    "### (IMPLEMENTATION) Model Architecture\n",
    "\n",
    "Create a CNN to classify dog breed.  At the end of your code cell block, summarize the layers of your model by executing the line:\n",
    "    \n",
    "        model.summary()\n",
    "\n",
    "We have imported some Python modules to get you started, but feel free to import as many modules as you need.  If you end up getting stuck, here's a hint that specifies a model that trains relatively fast on CPU and attains >1% test accuracy in 5 epochs:\n",
    "\n",
    "![Sample CNN](images/sample_cnn.png)\n",
    "           \n",
    "__Question 4:__ Outline the steps you took to get to your final CNN architecture and your reasoning at each step.  If you chose to use the hinted architecture above, describe why you think that CNN architecture should work well for the image classification task.\n",
    "\n",
    "__Answer:__ "
   ]
  },
  {
   "cell_type": "code",
   "execution_count": 16,
   "metadata": {},
   "outputs": [
    {
     "name": "stdout",
     "output_type": "stream",
     "text": [
      "_________________________________________________________________\n",
      "Layer (type)                 Output Shape              Param #   \n",
      "=================================================================\n",
      "conv2d_1 (Conv2D)            (None, 222, 222, 16)      448       \n",
      "_________________________________________________________________\n",
      "max_pooling2d_2 (MaxPooling2 (None, 111, 111, 16)      0         \n",
      "_________________________________________________________________\n",
      "conv2d_2 (Conv2D)            (None, 109, 109, 16)      2320      \n",
      "_________________________________________________________________\n",
      "max_pooling2d_3 (MaxPooling2 (None, 54, 54, 16)        0         \n",
      "_________________________________________________________________\n",
      "conv2d_3 (Conv2D)            (None, 52, 52, 32)        4640      \n",
      "_________________________________________________________________\n",
      "max_pooling2d_4 (MaxPooling2 (None, 26, 26, 32)        0         \n",
      "_________________________________________________________________\n",
      "global_average_pooling2d_1 ( (None, 32)                0         \n",
      "_________________________________________________________________\n",
      "dense_1 (Dense)              (None, 128)               4224      \n",
      "_________________________________________________________________\n",
      "dropout_1 (Dropout)          (None, 128)               0         \n",
      "_________________________________________________________________\n",
      "dense_2 (Dense)              (None, 133)               17157     \n",
      "=================================================================\n",
      "Total params: 28,789\n",
      "Trainable params: 28,789\n",
      "Non-trainable params: 0\n",
      "_________________________________________________________________\n"
     ]
    }
   ],
   "source": [
    "from keras.layers import Conv2D, MaxPooling2D, GlobalAveragePooling2D\n",
    "from keras.layers import Dropout, Flatten, Dense\n",
    "from keras.models import Sequential\n",
    "\n",
    "model = Sequential()\n",
    "### TODO: Define your architecture.\n",
    "\n",
    "model.add(Conv2D(16, kernel_size=(3,3), input_shape=(224,224,3), \n",
    "                 activation=\"relu\"))\n",
    "model.add(MaxPooling2D(pool_size=(2,2)))\n",
    "model.add(Conv2D(16, kernel_size=(3,3), activation=\"relu\"))\n",
    "model.add(MaxPooling2D(pool_size=(2,2)))\n",
    "model.add(Conv2D(32, kernel_size=(3,3), activation=\"relu\"))\n",
    "model.add(MaxPooling2D(pool_size=(2,2)))\n",
    "model.add(GlobalAveragePooling2D())\n",
    "model.add(Dense(128, activation=\"relu\"))\n",
    "model.add(Dropout(.3))\n",
    "model.add(Dense(133, activation=\"softmax\"))\n",
    "\n",
    "model.summary()"
   ]
  },
  {
   "cell_type": "markdown",
   "metadata": {},
   "source": [
    "### Compile the Model"
   ]
  },
  {
   "cell_type": "code",
   "execution_count": 17,
   "metadata": {},
   "outputs": [],
   "source": [
    "model.compile(optimizer='rmsprop', \n",
    "              loss='categorical_crossentropy', \n",
    "              metrics=['accuracy'])"
   ]
  },
  {
   "cell_type": "markdown",
   "metadata": {},
   "source": [
    "### (IMPLEMENTATION) Train the Model\n",
    "\n",
    "Train your model in the code cell below.  Use model checkpointing to save the model that attains the best validation loss.\n",
    "\n",
    "You are welcome to [augment the training data](https://blog.keras.io/building-powerful-image-classification-models-using-very-little-data.html), but this is not a requirement. "
   ]
  },
  {
   "cell_type": "code",
   "execution_count": 45,
   "metadata": {},
   "outputs": [
    {
     "name": "stdout",
     "output_type": "stream",
     "text": [
      "Found 6680 images belonging to 133 classes.\n",
      "Found 835 images belonging to 133 classes.\n",
      "Epoch 1/30\n",
      "100/100 [==============================] - 23s - loss: 3.8922 - acc: 0.0969 - val_loss: 4.1176 - val_acc: 0.0875\n",
      "Epoch 2/30\n",
      "100/100 [==============================] - 20s - loss: 3.9224 - acc: 0.0994 - val_loss: 4.1929 - val_acc: 0.0826\n",
      "Epoch 3/30\n",
      "100/100 [==============================] - 20s - loss: 3.9219 - acc: 0.1056 - val_loss: 4.0368 - val_acc: 0.0915\n",
      "Epoch 4/30\n",
      "100/100 [==============================] - 21s - loss: 3.8932 - acc: 0.1081 - val_loss: 4.0950 - val_acc: 0.0813\n",
      "Epoch 5/30\n",
      "100/100 [==============================] - 26s - loss: 3.9043 - acc: 0.1037 - val_loss: 4.0287 - val_acc: 0.0839\n",
      "Epoch 6/30\n",
      "100/100 [==============================] - 21s - loss: 3.8580 - acc: 0.1106 - val_loss: 4.0648 - val_acc: 0.0851\n",
      "Epoch 7/30\n",
      "100/100 [==============================] - 21s - loss: 3.8612 - acc: 0.1156 - val_loss: 4.0798 - val_acc: 0.0953\n",
      "Epoch 8/30\n",
      "100/100 [==============================] - 21s - loss: 3.9058 - acc: 0.1075 - val_loss: 4.0327 - val_acc: 0.0839\n",
      "Epoch 9/30\n",
      "100/100 [==============================] - 22s - loss: 3.8642 - acc: 0.1194 - val_loss: 3.9853 - val_acc: 0.0940\n",
      "Epoch 10/30\n",
      "100/100 [==============================] - 27s - loss: 3.9228 - acc: 0.1062 - val_loss: 4.0141 - val_acc: 0.1017\n",
      "Epoch 11/30\n",
      "100/100 [==============================] - 25s - loss: 3.8942 - acc: 0.1144 - val_loss: 4.1340 - val_acc: 0.0864\n",
      "Epoch 12/30\n",
      "100/100 [==============================] - 23s - loss: 3.8517 - acc: 0.1119 - val_loss: 4.1125 - val_acc: 0.0864\n",
      "Epoch 13/30\n",
      "100/100 [==============================] - 22s - loss: 3.8811 - acc: 0.0987 - val_loss: 3.9843 - val_acc: 0.1080\n",
      "Epoch 14/30\n",
      "100/100 [==============================] - 24s - loss: 3.8656 - acc: 0.1113 - val_loss: 4.0441 - val_acc: 0.0877\n",
      "Epoch 15/30\n",
      "100/100 [==============================] - 23s - loss: 3.8046 - acc: 0.1075 - val_loss: 4.0574 - val_acc: 0.0813\n",
      "Epoch 16/30\n",
      "100/100 [==============================] - 24s - loss: 3.8791 - acc: 0.1100 - val_loss: 3.9712 - val_acc: 0.1156\n",
      "Epoch 17/30\n",
      "100/100 [==============================] - 23s - loss: 3.8520 - acc: 0.0994 - val_loss: 4.0872 - val_acc: 0.0826\n",
      "Epoch 18/30\n",
      "100/100 [==============================] - 25s - loss: 3.8352 - acc: 0.1050 - val_loss: 4.0730 - val_acc: 0.0801\n",
      "Epoch 19/30\n",
      "100/100 [==============================] - 26s - loss: 3.8455 - acc: 0.1200 - val_loss: 4.0042 - val_acc: 0.1042\n",
      "Epoch 20/30\n",
      "100/100 [==============================] - 23s - loss: 3.8235 - acc: 0.1125 - val_loss: 4.2506 - val_acc: 0.0724\n",
      "Epoch 21/30\n",
      "100/100 [==============================] - 24s - loss: 3.8578 - acc: 0.1150 - val_loss: 3.9832 - val_acc: 0.0966\n",
      "Epoch 22/30\n",
      "100/100 [==============================] - 24s - loss: 3.8171 - acc: 0.1169 - val_loss: 4.1051 - val_acc: 0.0928\n",
      "Epoch 23/30\n",
      "100/100 [==============================] - 23s - loss: 3.8488 - acc: 0.1131 - val_loss: 4.0232 - val_acc: 0.0966\n",
      "Epoch 24/30\n",
      "100/100 [==============================] - 23s - loss: 3.8124 - acc: 0.1069 - val_loss: 4.0015 - val_acc: 0.1004\n",
      "Epoch 25/30\n",
      "100/100 [==============================] - 23s - loss: 3.8588 - acc: 0.1106 - val_loss: 3.9703 - val_acc: 0.1029\n",
      "Epoch 26/30\n",
      "100/100 [==============================] - 24s - loss: 3.7943 - acc: 0.1237 - val_loss: 3.9883 - val_acc: 0.1055\n",
      "Epoch 27/30\n",
      "100/100 [==============================] - 22s - loss: 3.8667 - acc: 0.1100 - val_loss: 3.9770 - val_acc: 0.1025\n",
      "Epoch 28/30\n",
      "100/100 [==============================] - 22s - loss: 3.7985 - acc: 0.1175 - val_loss: 4.0395 - val_acc: 0.0839\n",
      "Epoch 29/30\n",
      "100/100 [==============================] - 23s - loss: 3.8217 - acc: 0.1031 - val_loss: 4.0246 - val_acc: 0.0851\n",
      "Epoch 30/30\n",
      "100/100 [==============================] - 22s - loss: 3.8385 - acc: 0.1194 - val_loss: 4.0388 - val_acc: 0.0851\n"
     ]
    }
   ],
   "source": [
    "from keras.preprocessing.image import ImageDataGenerator\n",
    "### TODO: specify the number of epochs that you would like to use to train the model.\n",
    "\n",
    "# Creating the data augmentation features to train and test\n",
    "# this is the augmentation configuration we will use for training\n",
    "train_datagen = ImageDataGenerator(\n",
    "    rescale=1./255,\n",
    "    shear_range=0.2,\n",
    "    zoom_range=0.2,\n",
    "    horizontal_flip=True)\n",
    "\n",
    "# this is the augmentation configuration we will use for testing:\n",
    "# only rescaling\n",
    "test_datagen = ImageDataGenerator(rescale=1./255)\n",
    "\n",
    "batch_size=16\n",
    "\n",
    "train_generator = train_datagen.flow_from_directory(\"dogImages/train/\",\n",
    "                                                   target_size=(224,224),\n",
    "                                                   batch_size=batch_size,\n",
    "                                                   class_mode=\"categorical\")\n",
    "\n",
    "valid_generator = train_datagen.flow_from_directory(\"dogImages/valid/\",\n",
    "                                                   target_size=(224,224),\n",
    "                                                   batch_size=batch_size,\n",
    "                                                   class_mode=\"categorical\")\n",
    "\n",
    "history = model.fit_generator(\n",
    "        train_generator,\n",
    "        steps_per_epoch=100,\n",
    "        epochs=30,\n",
    "        validation_data=valid_generator,\n",
    "        validation_steps=50)\n",
    "\n",
    "# É interessante sempre salvar os pesos gerados após ou durante o treino.\n",
    "model.save_weights('test_dogs.h5') "
   ]
  },
  {
   "cell_type": "code",
   "execution_count": 46,
   "metadata": {},
   "outputs": [
    {
     "data": {
      "image/png": "[encoded data removed]",
      "text/plain": [
       "<matplotlib.figure.Figure at 0x7f377edb6a20>"
      ]
     },
     "metadata": {},
     "output_type": "display_data"
    },
    {
     "data": {
      "image/png": "[encoded data removed]",
      "text/plain": [
       "<matplotlib.figure.Figure at 0x7f377ed3d5f8>"
      ]
     },
     "metadata": {},
     "output_type": "display_data"
    }
   ],
   "source": [
    "import matplotlib.pyplot as plt\n",
    "\n",
    "acc = history.history['acc']\n",
    "val_acc = history.history['val_acc']\n",
    "loss = history.history['loss']\n",
    "val_loss = history.history['val_loss']\n",
    "\n",
    "epochs = range(1, len(acc) + 1)\n",
    "\n",
    "plt.plot(epochs, acc, 'bo', label='Training acc')\n",
    "plt.plot(epochs, val_acc, 'b', label='Validation acc')\n",
    "plt.title('Training and validation accuracy')\n",
    "plt.legend()\n",
    "\n",
    "plt.figure()\n",
    "\n",
    "plt.plot(epochs, loss, 'bo', label='Training loss')\n",
    "plt.plot(epochs, val_loss, 'b', label='Validation loss')\n",
    "plt.title('Training and validation loss')\n",
    "plt.legend()\n",
    "plt.show()"
   ]
  },
  {
   "cell_type": "code",
   "execution_count": 49,
   "metadata": {
    "scrolled": false
   },
   "outputs": [
    {
     "name": "stdout",
     "output_type": "stream",
     "text": [
      "Train on 6680 samples, validate on 835 samples\n",
      "Epoch 1/20\n",
      "6656/6680 [============================>.] - ETA: 0s - loss: 3.7513 - acc: 0.1235Epoch 00000: val_loss improved from inf to 3.98752, saving model to saved_models/weights.best.from_scratch.hdf5\n",
      "6680/6680 [==============================] - 17s - loss: 3.7511 - acc: 0.1240 - val_loss: 3.9875 - val_acc: 0.1018\n",
      "Epoch 2/20\n",
      "6656/6680 [============================>.] - ETA: 0s - loss: 3.7243 - acc: 0.1238Epoch 00001: val_loss improved from 3.98752 to 3.90286, saving model to saved_models/weights.best.from_scratch.hdf5\n",
      "6680/6680 [==============================] - 16s - loss: 3.7244 - acc: 0.1241 - val_loss: 3.9029 - val_acc: 0.1090\n",
      "Epoch 3/20\n",
      "6656/6680 [============================>.] - ETA: 0s - loss: 3.7132 - acc: 0.1316Epoch 00002: val_loss did not improve\n",
      "6680/6680 [==============================] - 16s - loss: 3.7130 - acc: 0.1314 - val_loss: 3.9124 - val_acc: 0.1090\n",
      "Epoch 4/20\n",
      "6656/6680 [============================>.] - ETA: 0s - loss: 3.6969 - acc: 0.1348Epoch 00003: val_loss did not improve\n",
      "6680/6680 [==============================] - 16s - loss: 3.6968 - acc: 0.1346 - val_loss: 3.9113 - val_acc: 0.1054\n",
      "Epoch 5/20\n",
      "6656/6680 [============================>.] - ETA: 0s - loss: 3.6848 - acc: 0.1342Epoch 00004: val_loss improved from 3.90286 to 3.88919, saving model to saved_models/weights.best.from_scratch.hdf5\n",
      "6680/6680 [==============================] - 16s - loss: 3.6845 - acc: 0.1341 - val_loss: 3.8892 - val_acc: 0.1138\n",
      "Epoch 6/20\n",
      "6656/6680 [============================>.] - ETA: 0s - loss: 3.6785 - acc: 0.1376Epoch 00005: val_loss did not improve\n",
      "6680/6680 [==============================] - 16s - loss: 3.6781 - acc: 0.1379 - val_loss: 4.0284 - val_acc: 0.0970\n",
      "Epoch 7/20\n",
      "6656/6680 [============================>.] - ETA: 0s - loss: 3.6665 - acc: 0.1337Epoch 00006: val_loss did not improve\n",
      "6680/6680 [==============================] - 16s - loss: 3.6659 - acc: 0.1338 - val_loss: 3.9547 - val_acc: 0.1210\n",
      "Epoch 8/20\n",
      "6656/6680 [============================>.] - ETA: 0s - loss: 3.6603 - acc: 0.1363Epoch 00007: val_loss did not improve\n",
      "6680/6680 [==============================] - 16s - loss: 3.6612 - acc: 0.1359 - val_loss: 3.9939 - val_acc: 0.1018\n",
      "Epoch 9/20\n",
      "6656/6680 [============================>.] - ETA: 0s - loss: 3.6369 - acc: 0.1382Epoch 00008: val_loss did not improve\n",
      "6680/6680 [==============================] - 16s - loss: 3.6361 - acc: 0.1380 - val_loss: 4.1420 - val_acc: 0.0982\n",
      "Epoch 10/20\n",
      "6656/6680 [============================>.] - ETA: 0s - loss: 3.6355 - acc: 0.1444Epoch 00009: val_loss improved from 3.88919 to 3.88352, saving model to saved_models/weights.best.from_scratch.hdf5\n",
      "6680/6680 [==============================] - 16s - loss: 3.6347 - acc: 0.1442 - val_loss: 3.8835 - val_acc: 0.1090\n",
      "Epoch 11/20\n",
      "6656/6680 [============================>.] - ETA: 0s - loss: 3.6261 - acc: 0.1393Epoch 00010: val_loss improved from 3.88352 to 3.85852, saving model to saved_models/weights.best.from_scratch.hdf5\n",
      "6680/6680 [==============================] - 17s - loss: 3.6268 - acc: 0.1392 - val_loss: 3.8585 - val_acc: 0.1162\n",
      "Epoch 12/20\n",
      "6656/6680 [============================>.] - ETA: 0s - loss: 3.6146 - acc: 0.1417Epoch 00011: val_loss did not improve\n",
      "6680/6680 [==============================] - 17s - loss: 3.6136 - acc: 0.1419 - val_loss: 3.9160 - val_acc: 0.1114\n",
      "Epoch 13/20\n",
      "6656/6680 [============================>.] - ETA: 0s - loss: 3.5934 - acc: 0.1511Epoch 00012: val_loss did not improve\n",
      "6680/6680 [==============================] - 17s - loss: 3.5929 - acc: 0.1510 - val_loss: 4.0240 - val_acc: 0.0946\n",
      "Epoch 14/20\n",
      "6656/6680 [============================>.] - ETA: 0s - loss: 3.6016 - acc: 0.1447Epoch 00013: val_loss did not improve\n",
      "6680/6680 [==============================] - 17s - loss: 3.6009 - acc: 0.1448 - val_loss: 3.8998 - val_acc: 0.1210\n",
      "Epoch 15/20\n",
      "6656/6680 [============================>.] - ETA: 0s - loss: 3.5922 - acc: 0.1495Epoch 00014: val_loss did not improve\n",
      "6680/6680 [==============================] - 17s - loss: 3.5919 - acc: 0.1496 - val_loss: 3.9394 - val_acc: 0.1042\n",
      "Epoch 16/20\n",
      "6656/6680 [============================>.] - ETA: 0s - loss: 3.5880 - acc: 0.1534Epoch 00015: val_loss did not improve\n",
      "6680/6680 [==============================] - 17s - loss: 3.5884 - acc: 0.1534 - val_loss: 4.0324 - val_acc: 0.1126\n",
      "Epoch 17/20\n",
      "6656/6680 [============================>.] - ETA: 0s - loss: 3.5656 - acc: 0.1510Epoch 00016: val_loss did not improve\n",
      "6680/6680 [==============================] - 17s - loss: 3.5653 - acc: 0.1512 - val_loss: 3.9095 - val_acc: 0.1162\n",
      "Epoch 18/20\n",
      "6656/6680 [============================>.] - ETA: 0s - loss: 3.5590 - acc: 0.1436Epoch 00017: val_loss did not improve\n",
      "6680/6680 [==============================] - 17s - loss: 3.5584 - acc: 0.1439 - val_loss: 3.8775 - val_acc: 0.1126\n",
      "Epoch 19/20\n",
      "6656/6680 [============================>.] - ETA: 0s - loss: 3.5619 - acc: 0.1519Epoch 00018: val_loss did not improve\n",
      "6680/6680 [==============================] - 17s - loss: 3.5635 - acc: 0.1515 - val_loss: 3.9006 - val_acc: 0.1138\n",
      "Epoch 20/20\n",
      "6656/6680 [============================>.] - ETA: 0s - loss: 3.5518 - acc: 0.1520Epoch 00019: val_loss improved from 3.85852 to 3.82581, saving model to saved_models/weights.best.from_scratch.hdf5\n",
      "6680/6680 [==============================] - 17s - loss: 3.5520 - acc: 0.1521 - val_loss: 3.8258 - val_acc: 0.1281\n"
     ]
    },
    {
     "data": {
      "text/plain": [
       "<keras.callbacks.History at 0x7f38b85aa748>"
      ]
     },
     "execution_count": 49,
     "metadata": {},
     "output_type": "execute_result"
    }
   ],
   "source": [
    "from keras.callbacks import ModelCheckpoint  \n",
    "\n",
    "epochs = 20\n",
    "\n",
    "### Do NOT modify the code below this line.\n",
    "checkpointer = ModelCheckpoint(filepath='saved_models/weights.best.from_scratch.hdf5', \n",
    "                               verbose=1, save_best_only=True)\n",
    "\n",
    "#model.load_weights('saved_models/test_dogs.h5')\n",
    "\n",
    "model.fit(train_tensors, train_targets, \n",
    "          validation_data=(valid_tensors, valid_targets),\n",
    "          epochs=epochs, batch_size=32, callbacks=[checkpointer], verbose=1)"
   ]
  },
  {
   "cell_type": "markdown",
   "metadata": {},
   "source": [
    "### Load the Model with the Best Validation Loss"
   ]
  },
  {
   "cell_type": "code",
   "execution_count": 24,
   "metadata": {},
   "outputs": [],
   "source": [
    "model.load_weights('saved_models/weights.best.from_scratch.hdf5')"
   ]
  },
  {
   "cell_type": "markdown",
   "metadata": {},
   "source": [
    "### Test the Model\n",
    "\n",
    "Try out your model on the test dataset of dog images.  Ensure that your test accuracy is greater than 1%."
   ]
  },
  {
   "cell_type": "code",
   "execution_count": 25,
   "metadata": {},
   "outputs": [
    {
     "name": "stdout",
     "output_type": "stream",
     "text": [
      "Test accuracy: 9.4498%\n"
     ]
    }
   ],
   "source": [
    "# get index of predicted dog breed for each image in test set\n",
    "dog_breed_predictions = [np.argmax(model.predict(np.expand_dims(tensor, axis=0))) for tensor in test_tensors]\n",
    "\n",
    "# report test accuracy\n",
    "test_accuracy = 100*np.sum(np.array(dog_breed_predictions)==np.argmax(test_targets, axis=1))/len(dog_breed_predictions)\n",
    "print('Test accuracy: %.4f%%' % test_accuracy)"
   ]
  },
  {
   "cell_type": "markdown",
   "metadata": {},
   "source": [
    "---\n",
    "<a id='step4'></a>\n",
    "## Step 4: Use a CNN to Classify Dog Breeds\n",
    "\n",
    "To reduce training time without sacrificing accuracy, we show you how to train a CNN using transfer learning.  In the following step, you will get a chance to use transfer learning to train your own CNN.\n",
    "\n",
    "### Obtain Bottleneck Features"
   ]
  },
  {
   "cell_type": "code",
   "execution_count": 26,
   "metadata": {},
   "outputs": [],
   "source": [
    "bottleneck_features = np.load('bottleneck_features/DogVGG16Data.npz')\n",
    "train_VGG16 = bottleneck_features['train']\n",
    "valid_VGG16 = bottleneck_features['valid']\n",
    "test_VGG16 = bottleneck_features['test']"
   ]
  },
  {
   "cell_type": "markdown",
   "metadata": {},
   "source": [
    "### Model Architecture\n",
    "\n",
    "The model uses the the pre-trained VGG-16 model as a fixed feature extractor, where the last convolutional output of VGG-16 is fed as input to our model.  We only add a global average pooling layer and a fully connected layer, where the latter contains one node for each dog category and is equipped with a softmax."
   ]
  },
  {
   "cell_type": "code",
   "execution_count": 27,
   "metadata": {},
   "outputs": [
    {
     "name": "stdout",
     "output_type": "stream",
     "text": [
      "_________________________________________________________________\n",
      "Layer (type)                 Output Shape              Param #   \n",
      "=================================================================\n",
      "global_average_pooling2d_2 ( (None, 512)               0         \n",
      "_________________________________________________________________\n",
      "dense_3 (Dense)              (None, 133)               68229     \n",
      "=================================================================\n",
      "Total params: 68,229\n",
      "Trainable params: 68,229\n",
      "Non-trainable params: 0\n",
      "_________________________________________________________________\n"
     ]
    }
   ],
   "source": [
    "VGG16_model = Sequential()\n",
    "VGG16_model.add(GlobalAveragePooling2D(input_shape=train_VGG16.shape[1:]))\n",
    "VGG16_model.add(Dense(133, activation='softmax'))\n",
    "\n",
    "VGG16_model.summary()"
   ]
  },
  {
   "cell_type": "markdown",
   "metadata": {},
   "source": [
    "### Compile the Model"
   ]
  },
  {
   "cell_type": "code",
   "execution_count": 28,
   "metadata": {},
   "outputs": [],
   "source": [
    "VGG16_model.compile(loss='categorical_crossentropy', \n",
    "                    optimizer='rmsprop', metrics=['accuracy'])"
   ]
  },
  {
   "cell_type": "markdown",
   "metadata": {},
   "source": [
    "### Train the Model"
   ]
  },
  {
   "cell_type": "code",
   "execution_count": 29,
   "metadata": {
    "scrolled": false
   },
   "outputs": [
    {
     "name": "stdout",
     "output_type": "stream",
     "text": [
      "Train on 6680 samples, validate on 835 samples\n",
      "Epoch 1/20\n",
      "6400/6680 [===========================>..] - ETA: 0s - loss: 12.5347 - acc: 0.1030Epoch 00000: val_loss improved from inf to 11.04399, saving model to saved_models/weights.best.VGG16.hdf5\n",
      "6680/6680 [==============================] - 0s - loss: 12.4644 - acc: 0.1063 - val_loss: 11.0440 - val_acc: 0.1653\n",
      "Epoch 2/20\n",
      "6336/6680 [===========================>..] - ETA: 0s - loss: 9.9402 - acc: 0.2667 Epoch 00001: val_loss improved from 11.04399 to 9.79752, saving model to saved_models/weights.best.VGG16.hdf5\n",
      "6680/6680 [==============================] - 0s - loss: 9.9379 - acc: 0.2678 - val_loss: 9.7975 - val_acc: 0.2743\n",
      "Epoch 3/20\n",
      "6528/6680 [============================>.] - ETA: 0s - loss: 9.0919 - acc: 0.3534Epoch 00002: val_loss improved from 9.79752 to 9.38474, saving model to saved_models/weights.best.VGG16.hdf5\n",
      "6680/6680 [==============================] - 0s - loss: 9.0807 - acc: 0.3545 - val_loss: 9.3847 - val_acc: 0.3090\n",
      "Epoch 4/20\n",
      "6528/6680 [============================>.] - ETA: 0s - loss: 8.8125 - acc: 0.3997Epoch 00003: val_loss improved from 9.38474 to 9.28183, saving model to saved_models/weights.best.VGG16.hdf5\n",
      "6680/6680 [==============================] - 0s - loss: 8.7897 - acc: 0.4012 - val_loss: 9.2818 - val_acc: 0.3353\n",
      "Epoch 5/20\n",
      "6400/6680 [===========================>..] - ETA: 0s - loss: 8.6173 - acc: 0.4313Epoch 00004: val_loss improved from 9.28183 to 9.16035, saving model to saved_models/weights.best.VGG16.hdf5\n",
      "6680/6680 [==============================] - 0s - loss: 8.6279 - acc: 0.4307 - val_loss: 9.1603 - val_acc: 0.3497\n",
      "Epoch 6/20\n",
      "6336/6680 [===========================>..] - ETA: 0s - loss: 8.5137 - acc: 0.4460Epoch 00005: val_loss improved from 9.16035 to 9.08095, saving model to saved_models/weights.best.VGG16.hdf5\n",
      "6680/6680 [==============================] - 0s - loss: 8.5245 - acc: 0.4449 - val_loss: 9.0809 - val_acc: 0.3617\n",
      "Epoch 7/20\n",
      "6336/6680 [===========================>..] - ETA: 0s - loss: 8.4695 - acc: 0.4594Epoch 00006: val_loss did not improve\n",
      "6680/6680 [==============================] - 0s - loss: 8.4699 - acc: 0.4591 - val_loss: 9.1091 - val_acc: 0.3485\n",
      "Epoch 8/20\n",
      "6528/6680 [============================>.] - ETA: 0s - loss: 8.4557 - acc: 0.4642Epoch 00007: val_loss improved from 9.08095 to 9.06174, saving model to saved_models/weights.best.VGG16.hdf5\n",
      "6680/6680 [==============================] - 0s - loss: 8.4459 - acc: 0.4647 - val_loss: 9.0617 - val_acc: 0.3701\n",
      "Epoch 9/20\n",
      "6272/6680 [===========================>..] - ETA: 0s - loss: 8.4283 - acc: 0.4715Epoch 00008: val_loss improved from 9.06174 to 9.05171, saving model to saved_models/weights.best.VGG16.hdf5\n",
      "6680/6680 [==============================] - 0s - loss: 8.4272 - acc: 0.4711 - val_loss: 9.0517 - val_acc: 0.3689\n",
      "Epoch 10/20\n",
      "6336/6680 [===========================>..] - ETA: 0s - loss: 8.4026 - acc: 0.4710Epoch 00009: val_loss improved from 9.05171 to 8.95908, saving model to saved_models/weights.best.VGG16.hdf5\n",
      "6680/6680 [==============================] - 0s - loss: 8.3829 - acc: 0.4719 - val_loss: 8.9591 - val_acc: 0.3701\n",
      "Epoch 11/20\n",
      "6016/6680 [==========================>...] - ETA: 0s - loss: 8.2840 - acc: 0.4737Epoch 00010: val_loss improved from 8.95908 to 8.91142, saving model to saved_models/weights.best.VGG16.hdf5\n",
      "6680/6680 [==============================] - 0s - loss: 8.2567 - acc: 0.4754 - val_loss: 8.9114 - val_acc: 0.3629\n",
      "Epoch 12/20\n",
      "6656/6680 [============================>.] - ETA: 0s - loss: 8.1599 - acc: 0.4844Epoch 00011: val_loss improved from 8.91142 to 8.74344, saving model to saved_models/weights.best.VGG16.hdf5\n",
      "6680/6680 [==============================] - 0s - loss: 8.1669 - acc: 0.4840 - val_loss: 8.7434 - val_acc: 0.3820\n",
      "Epoch 13/20\n",
      "6464/6680 [============================>.] - ETA: 0s - loss: 8.0048 - acc: 0.4960Epoch 00012: val_loss improved from 8.74344 to 8.72502, saving model to saved_models/weights.best.VGG16.hdf5\n",
      "6680/6680 [==============================] - 0s - loss: 8.0175 - acc: 0.4946 - val_loss: 8.7250 - val_acc: 0.3880\n",
      "Epoch 14/20\n",
      "5952/6680 [=========================>....] - ETA: 0s - loss: 7.9347 - acc: 0.5034Epoch 00013: val_loss improved from 8.72502 to 8.67177, saving model to saved_models/weights.best.VGG16.hdf5\n",
      "6680/6680 [==============================] - 0s - loss: 7.9914 - acc: 0.5000 - val_loss: 8.6718 - val_acc: 0.3892\n",
      "Epoch 15/20\n",
      "5952/6680 [=========================>....] - ETA: 0s - loss: 7.9343 - acc: 0.5045Epoch 00014: val_loss improved from 8.67177 to 8.64492, saving model to saved_models/weights.best.VGG16.hdf5\n",
      "6680/6680 [==============================] - 0s - loss: 7.9826 - acc: 0.5015 - val_loss: 8.6449 - val_acc: 0.4000\n",
      "Epoch 16/20\n",
      "6592/6680 [============================>.] - ETA: 0s - loss: 7.9695 - acc: 0.5041Epoch 00015: val_loss did not improve\n",
      "6680/6680 [==============================] - 0s - loss: 7.9756 - acc: 0.5037 - val_loss: 8.6848 - val_acc: 0.3952\n",
      "Epoch 17/20\n",
      "6336/6680 [===========================>..] - ETA: 0s - loss: 7.8917 - acc: 0.5035Epoch 00016: val_loss improved from 8.64492 to 8.57914, saving model to saved_models/weights.best.VGG16.hdf5\n",
      "6680/6680 [==============================] - 0s - loss: 7.9146 - acc: 0.5018 - val_loss: 8.5791 - val_acc: 0.4012\n",
      "Epoch 18/20\n",
      "6016/6680 [==========================>...] - ETA: 0s - loss: 7.7686 - acc: 0.5105Epoch 00017: val_loss improved from 8.57914 to 8.57498, saving model to saved_models/weights.best.VGG16.hdf5\n",
      "6680/6680 [==============================] - 0s - loss: 7.7938 - acc: 0.5094 - val_loss: 8.5750 - val_acc: 0.3988\n",
      "Epoch 19/20\n",
      "6016/6680 [==========================>...] - ETA: 0s - loss: 7.7496 - acc: 0.5156Epoch 00018: val_loss improved from 8.57498 to 8.46146, saving model to saved_models/weights.best.VGG16.hdf5\n",
      "6680/6680 [==============================] - 0s - loss: 7.7623 - acc: 0.5150 - val_loss: 8.4615 - val_acc: 0.4072\n",
      "Epoch 20/20\n",
      "6080/6680 [==========================>...] - ETA: 0s - loss: 7.7995 - acc: 0.5122Epoch 00019: val_loss improved from 8.46146 to 8.44701, saving model to saved_models/weights.best.VGG16.hdf5\n",
      "6680/6680 [==============================] - 0s - loss: 7.7581 - acc: 0.5150 - val_loss: 8.4470 - val_acc: 0.4096\n"
     ]
    },
    {
     "data": {
      "text/plain": [
       "<keras.callbacks.History at 0x7f38b80c5c88>"
      ]
     },
     "execution_count": 29,
     "metadata": {},
     "output_type": "execute_result"
    }
   ],
   "source": [
    "checkpointer = ModelCheckpoint(filepath='saved_models/weights.best.VGG16.hdf5', \n",
    "                               verbose=1, save_best_only=True)\n",
    "\n",
    "VGG16_model.fit(train_VGG16, train_targets, \n",
    "          validation_data=(valid_VGG16, valid_targets),\n",
    "          epochs=20, batch_size=64, callbacks=[checkpointer], verbose=1)"
   ]
  },
  {
   "cell_type": "markdown",
   "metadata": {},
   "source": [
    "### Load the Model with the Best Validation Loss"
   ]
  },
  {
   "cell_type": "code",
   "execution_count": 30,
   "metadata": {},
   "outputs": [],
   "source": [
    "VGG16_model.load_weights('saved_models/weights.best.VGG16.hdf5')"
   ]
  },
  {
   "cell_type": "markdown",
   "metadata": {},
   "source": [
    "### Test the Model\n",
    "\n",
    "Now, we can use the CNN to test how well it identifies breed within our test dataset of dog images.  We print the test accuracy below."
   ]
  },
  {
   "cell_type": "code",
   "execution_count": 31,
   "metadata": {},
   "outputs": [
    {
     "name": "stdout",
     "output_type": "stream",
     "text": [
      "Test accuracy: 42.5837%\n"
     ]
    }
   ],
   "source": [
    "# get index of predicted dog breed for each image in test set\n",
    "VGG16_predictions = [np.argmax(VGG16_model.predict(np.expand_dims(feature, axis=0))) for feature in test_VGG16]\n",
    "\n",
    "# report test accuracy\n",
    "test_accuracy = 100*np.sum(np.array(VGG16_predictions)==np.argmax(test_targets, axis=1))/len(VGG16_predictions)\n",
    "print('Test accuracy: %.4f%%' % test_accuracy)"
   ]
  },
  {
   "cell_type": "markdown",
   "metadata": {},
   "source": [
    "### Predict Dog Breed with the Model"
   ]
  },
  {
   "cell_type": "code",
   "execution_count": 32,
   "metadata": {},
   "outputs": [],
   "source": [
    "from extract_bottleneck_features import *\n",
    "\n",
    "def VGG16_predict_breed(img_path):\n",
    "    # extract bottleneck features\n",
    "    bottleneck_feature = extract_VGG16(path_to_tensor(img_path))\n",
    "    # obtain predicted vector\n",
    "    predicted_vector = VGG16_model.predict(bottleneck_feature)\n",
    "    # return dog breed that is predicted by the model\n",
    "    return dog_names[np.argmax(predicted_vector)]"
   ]
  },
  {
   "cell_type": "markdown",
   "metadata": {},
   "source": [
    "---\n",
    "<a id='step5'></a>\n",
    "## Step 5: Create a CNN to Classify Dog Breeds (using Transfer Learning)\n",
    "\n",
    "You will now use transfer learning to create a CNN that can identify dog breed from images.  Your CNN must attain at least 60% accuracy on the test set.\n",
    "\n",
    "In Step 4, we used transfer learning to create a CNN using VGG-16 bottleneck features.  In this section, you must use the bottleneck features from a different pre-trained model.  To make things easier for you, we have pre-computed the features for all of the networks that are currently available in Keras:\n",
    "- [VGG-19](https://s3-us-west-1.amazonaws.com/udacity-aind/dog-project/DogVGG19Data.npz) bottleneck features\n",
    "- [ResNet-50](https://s3-us-west-1.amazonaws.com/udacity-aind/dog-project/DogResnet50Data.npz) bottleneck features\n",
    "- [Inception](https://s3-us-west-1.amazonaws.com/udacity-aind/dog-project/DogInceptionV3Data.npz) bottleneck features\n",
    "- [Xception](https://s3-us-west-1.amazonaws.com/udacity-aind/dog-project/DogXceptionData.npz) bottleneck features\n",
    "\n",
    "The files are encoded as such:\n",
    "\n",
    "    Dog{network}Data.npz\n",
    "    \n",
    "where `{network}`, in the above filename, can be one of `VGG19`, `Resnet50`, `InceptionV3`, or `Xception`.  Pick one of the above architectures, download the corresponding bottleneck features, and store the downloaded file in the `bottleneck_features/` folder in the repository.\n",
    "\n",
    "### (IMPLEMENTATION) Obtain Bottleneck Features\n",
    "\n",
    "In the code block below, extract the bottleneck features corresponding to the train, test, and validation sets by running the following:\n",
    "\n",
    "    bottleneck_features = np.load('bottleneck_features/Dog{network}Data.npz')\n",
    "    train_{network} = bottleneck_features['train']\n",
    "    valid_{network} = bottleneck_features['valid']\n",
    "    test_{network} = bottleneck_features['test']"
   ]
  },
  {
   "cell_type": "code",
   "execution_count": 33,
   "metadata": {},
   "outputs": [],
   "source": [
    "### TODO: Obtain bottleneck features from another pre-trained CNN.\n",
    "\n",
    "bn_features = np.load(\"bottleneck_features/DogVGG19Data.npz\")\n",
    "\n",
    "train_VGG19 = bn_features['train']\n",
    "valid_VGG19 = bn_features['valid']\n",
    "test_VGG19 = bn_features['test']"
   ]
  },
  {
   "cell_type": "code",
   "execution_count": 34,
   "metadata": {},
   "outputs": [
    {
     "data": {
      "text/plain": [
       "(836, 7, 7, 512)"
      ]
     },
     "execution_count": 34,
     "metadata": {},
     "output_type": "execute_result"
    }
   ],
   "source": [
    "test_VGG19.shape"
   ]
  },
  {
   "cell_type": "markdown",
   "metadata": {},
   "source": [
    "### (IMPLEMENTATION) Model Architecture\n",
    "\n",
    "Create a CNN to classify dog breed.  At the end of your code cell block, summarize the layers of your model by executing the line:\n",
    "    \n",
    "        <your model's name>.summary()\n",
    "   \n",
    "__Question 5:__ Outline the steps you took to get to your final CNN architecture and your reasoning at each step.  Describe why you think the architecture is suitable for the current problem.\n",
    "\n",
    "__Answer:__ \n",
    "\n"
   ]
  },
  {
   "cell_type": "code",
   "execution_count": 36,
   "metadata": {},
   "outputs": [
    {
     "name": "stdout",
     "output_type": "stream",
     "text": [
      "_________________________________________________________________\n",
      "Layer (type)                 Output Shape              Param #   \n",
      "=================================================================\n",
      "global_average_pooling2d_4 ( (None, 512)               0         \n",
      "_________________________________________________________________\n",
      "dense_7 (Dense)              (None, 128)               65664     \n",
      "_________________________________________________________________\n",
      "dropout_2 (Dropout)          (None, 128)               0         \n",
      "_________________________________________________________________\n",
      "dense_8 (Dense)              (None, 128)               16512     \n",
      "_________________________________________________________________\n",
      "dropout_3 (Dropout)          (None, 128)               0         \n",
      "_________________________________________________________________\n",
      "dense_9 (Dense)              (None, 133)               17157     \n",
      "=================================================================\n",
      "Total params: 99,333\n",
      "Trainable params: 99,333\n",
      "Non-trainable params: 0\n",
      "_________________________________________________________________\n"
     ]
    }
   ],
   "source": [
    "### TODO: Define your architecture.\n",
    "\n",
    "VGG19_model = Sequential()\n",
    "\n",
    "VGG19_model.add(GlobalAveragePooling2D(input_shape=train_VGG19.shape[1:]))\n",
    "VGG19_model.add(Dense(128, activation=\"relu\"))\n",
    "VGG19_model.add(Dropout(.3))\n",
    "VGG19_model.add(Dense(128, activation=\"relu\"))\n",
    "VGG19_model.add(Dropout(.3))\n",
    "VGG19_model.add(Dense(133, activation=\"softmax\"))\n",
    "                \n",
    "VGG19_model.summary()"
   ]
  },
  {
   "cell_type": "markdown",
   "metadata": {},
   "source": [
    "### (IMPLEMENTATION) Compile the Model"
   ]
  },
  {
   "cell_type": "code",
   "execution_count": 37,
   "metadata": {},
   "outputs": [],
   "source": [
    "### TODO: Compile the model.\n",
    "\n",
    "VGG19_model.compile(loss='categorical_crossentropy', \n",
    "                    metrics=['accuracy'],optimizer=\"rmsprop\")"
   ]
  },
  {
   "cell_type": "markdown",
   "metadata": {},
   "source": [
    "### (IMPLEMENTATION) Train the Model\n",
    "\n",
    "Train your model in the code cell below.  Use model checkpointing to save the model that attains the best validation loss.  \n",
    "\n",
    "You are welcome to [augment the training data](https://blog.keras.io/building-powerful-image-classification-models-using-very-little-data.html), but this is not a requirement. "
   ]
  },
  {
   "cell_type": "code",
   "execution_count": null,
   "metadata": {},
   "outputs": [],
   "source": []
  },
  {
   "cell_type": "code",
   "execution_count": 38,
   "metadata": {
    "scrolled": false
   },
   "outputs": [
    {
     "name": "stdout",
     "output_type": "stream",
     "text": [
      "Train on 6680 samples, validate on 835 samples\n",
      "Epoch 1/50\n",
      "6272/6680 [===========================>..] - ETA: 0s - loss: 5.3537 - acc: 0.0324Epoch 00000: val_loss improved from inf to 4.04062, saving model to saved_models/weights.best.vGG19.hdf5\n",
      "6680/6680 [==============================] - 0s - loss: 5.2969 - acc: 0.0358 - val_loss: 4.0406 - val_acc: 0.1677\n",
      "Epoch 2/50\n",
      "6528/6680 [============================>.] - ETA: 0s - loss: 3.8970 - acc: 0.1506Epoch 00001: val_loss improved from 4.04062 to 2.78171, saving model to saved_models/weights.best.vGG19.hdf5\n",
      "6680/6680 [==============================] - 0s - loss: 3.8846 - acc: 0.1522 - val_loss: 2.7817 - val_acc: 0.3760\n",
      "Epoch 3/50\n",
      "6656/6680 [============================>.] - ETA: 0s - loss: 2.9692 - acc: 0.2879Epoch 00002: val_loss improved from 2.78171 to 2.04905, saving model to saved_models/weights.best.vGG19.hdf5\n",
      "6680/6680 [==============================] - 0s - loss: 2.9685 - acc: 0.2880 - val_loss: 2.0491 - val_acc: 0.4766\n",
      "Epoch 4/50\n",
      "6400/6680 [===========================>..] - ETA: 0s - loss: 2.4456 - acc: 0.3820Epoch 00003: val_loss improved from 2.04905 to 1.58844, saving model to saved_models/weights.best.vGG19.hdf5\n",
      "6680/6680 [==============================] - 0s - loss: 2.4331 - acc: 0.3847 - val_loss: 1.5884 - val_acc: 0.5689\n",
      "Epoch 5/50\n",
      "6400/6680 [===========================>..] - ETA: 0s - loss: 2.0573 - acc: 0.4542Epoch 00004: val_loss improved from 1.58844 to 1.41418, saving model to saved_models/weights.best.vGG19.hdf5\n",
      "6680/6680 [==============================] - 0s - loss: 2.0546 - acc: 0.4542 - val_loss: 1.4142 - val_acc: 0.6000\n",
      "Epoch 6/50\n",
      "6400/6680 [===========================>..] - ETA: 0s - loss: 1.7989 - acc: 0.5033Epoch 00005: val_loss improved from 1.41418 to 1.28624, saving model to saved_models/weights.best.vGG19.hdf5\n",
      "6680/6680 [==============================] - 0s - loss: 1.8041 - acc: 0.5022 - val_loss: 1.2862 - val_acc: 0.6395\n",
      "Epoch 7/50\n",
      "6400/6680 [===========================>..] - ETA: 0s - loss: 1.6365 - acc: 0.5347Epoch 00006: val_loss improved from 1.28624 to 1.17774, saving model to saved_models/weights.best.vGG19.hdf5\n",
      "6680/6680 [==============================] - 0s - loss: 1.6348 - acc: 0.5341 - val_loss: 1.1777 - val_acc: 0.6623\n",
      "Epoch 8/50\n",
      "6016/6680 [==========================>...] - ETA: 0s - loss: 1.4673 - acc: 0.5888Epoch 00007: val_loss improved from 1.17774 to 1.06400, saving model to saved_models/weights.best.vGG19.hdf5\n",
      "6680/6680 [==============================] - 0s - loss: 1.4651 - acc: 0.5895 - val_loss: 1.0640 - val_acc: 0.6862\n",
      "Epoch 9/50\n",
      "6400/6680 [===========================>..] - ETA: 0s - loss: 1.3214 - acc: 0.6088Epoch 00008: val_loss did not improve\n",
      "6680/6680 [==============================] - 0s - loss: 1.3264 - acc: 0.6076 - val_loss: 1.0678 - val_acc: 0.6898\n",
      "Epoch 10/50\n",
      "6400/6680 [===========================>..] - ETA: 0s - loss: 1.2546 - acc: 0.6220Epoch 00009: val_loss improved from 1.06400 to 0.96214, saving model to saved_models/weights.best.vGG19.hdf5\n",
      "6680/6680 [==============================] - 0s - loss: 1.2568 - acc: 0.6207 - val_loss: 0.9621 - val_acc: 0.7222\n",
      "Epoch 11/50\n",
      "6144/6680 [==========================>...] - ETA: 0s - loss: 1.1225 - acc: 0.6606Epoch 00010: val_loss improved from 0.96214 to 0.95329, saving model to saved_models/weights.best.vGG19.hdf5\n",
      "6680/6680 [==============================] - 0s - loss: 1.1310 - acc: 0.6576 - val_loss: 0.9533 - val_acc: 0.7222\n",
      "Epoch 12/50\n",
      "6528/6680 [============================>.] - ETA: 0s - loss: 1.0947 - acc: 0.6716Epoch 00011: val_loss improved from 0.95329 to 0.91268, saving model to saved_models/weights.best.vGG19.hdf5\n",
      "6680/6680 [==============================] - 0s - loss: 1.0980 - acc: 0.6711 - val_loss: 0.9127 - val_acc: 0.7257\n",
      "Epoch 13/50\n",
      "6400/6680 [===========================>..] - ETA: 0s - loss: 1.0471 - acc: 0.6791Epoch 00012: val_loss improved from 0.91268 to 0.88609, saving model to saved_models/weights.best.vGG19.hdf5\n",
      "6680/6680 [==============================] - 0s - loss: 1.0421 - acc: 0.6799 - val_loss: 0.8861 - val_acc: 0.7329\n",
      "Epoch 14/50\n",
      "6656/6680 [============================>.] - ETA: 0s - loss: 0.9849 - acc: 0.6980Epoch 00013: val_loss did not improve\n",
      "6680/6680 [==============================] - 0s - loss: 0.9843 - acc: 0.6984 - val_loss: 0.9190 - val_acc: 0.7281\n",
      "Epoch 15/50\n",
      "6528/6680 [============================>.] - ETA: 0s - loss: 0.9183 - acc: 0.7177Epoch 00014: val_loss improved from 0.88609 to 0.84660, saving model to saved_models/weights.best.vGG19.hdf5\n",
      "6680/6680 [==============================] - 0s - loss: 0.9145 - acc: 0.7187 - val_loss: 0.8466 - val_acc: 0.7473\n",
      "Epoch 16/50\n",
      "6656/6680 [============================>.] - ETA: 0s - loss: 0.8908 - acc: 0.7215Epoch 00015: val_loss improved from 0.84660 to 0.82550, saving model to saved_models/weights.best.vGG19.hdf5\n",
      "6680/6680 [==============================] - 0s - loss: 0.8918 - acc: 0.7211 - val_loss: 0.8255 - val_acc: 0.7509\n",
      "Epoch 17/50\n",
      "6016/6680 [==========================>...] - ETA: 0s - loss: 0.8496 - acc: 0.7309Epoch 00016: val_loss did not improve\n",
      "6680/6680 [==============================] - 0s - loss: 0.8548 - acc: 0.7298 - val_loss: 0.8304 - val_acc: 0.7533\n",
      "Epoch 18/50\n",
      "6400/6680 [===========================>..] - ETA: 0s - loss: 0.8041 - acc: 0.7414Epoch 00017: val_loss did not improve\n",
      "6680/6680 [==============================] - 0s - loss: 0.7996 - acc: 0.7442 - val_loss: 0.8539 - val_acc: 0.7521\n",
      "Epoch 19/50\n",
      "6656/6680 [============================>.] - ETA: 0s - loss: 0.7701 - acc: 0.7598Epoch 00018: val_loss improved from 0.82550 to 0.81242, saving model to saved_models/weights.best.vGG19.hdf5\n",
      "6680/6680 [==============================] - 0s - loss: 0.7694 - acc: 0.7600 - val_loss: 0.8124 - val_acc: 0.7713\n",
      "Epoch 20/50\n",
      "6400/6680 [===========================>..] - ETA: 0s - loss: 0.7576 - acc: 0.7591Epoch 00019: val_loss did not improve\n",
      "6680/6680 [==============================] - 0s - loss: 0.7619 - acc: 0.7582 - val_loss: 0.8250 - val_acc: 0.7461\n",
      "Epoch 21/50\n",
      "6400/6680 [===========================>..] - ETA: 0s - loss: 0.7219 - acc: 0.7716Epoch 00020: val_loss did not improve\n",
      "6680/6680 [==============================] - 0s - loss: 0.7240 - acc: 0.7702 - val_loss: 0.8295 - val_acc: 0.7461\n",
      "Epoch 22/50\n",
      "6400/6680 [===========================>..] - ETA: 0s - loss: 0.7131 - acc: 0.7712Epoch 00021: val_loss did not improve\n",
      "6680/6680 [==============================] - 0s - loss: 0.7180 - acc: 0.7702 - val_loss: 0.8761 - val_acc: 0.7533\n",
      "Epoch 23/50\n",
      "6144/6680 [==========================>...] - ETA: 0s - loss: 0.6863 - acc: 0.7868Epoch 00022: val_loss did not improve\n",
      "6680/6680 [==============================] - 0s - loss: 0.6791 - acc: 0.7885 - val_loss: 0.8387 - val_acc: 0.7545\n",
      "Epoch 24/50\n",
      "6400/6680 [===========================>..] - ETA: 0s - loss: 0.6665 - acc: 0.7869Epoch 00023: val_loss did not improve\n",
      "6680/6680 [==============================] - 0s - loss: 0.6670 - acc: 0.7871 - val_loss: 0.8157 - val_acc: 0.7569\n",
      "Epoch 25/50\n",
      "6144/6680 [==========================>...] - ETA: 0s - loss: 0.6740 - acc: 0.7834Epoch 00024: val_loss did not improve\n",
      "6680/6680 [==============================] - 0s - loss: 0.6638 - acc: 0.7871 - val_loss: 0.8538 - val_acc: 0.7509\n",
      "Epoch 26/50\n",
      "6400/6680 [===========================>..] - ETA: 0s - loss: 0.6222 - acc: 0.8019Epoch 00025: val_loss did not improve\n",
      "6680/6680 [==============================] - 0s - loss: 0.6239 - acc: 0.8006 - val_loss: 0.8524 - val_acc: 0.7581\n",
      "Epoch 27/50\n",
      "6656/6680 [============================>.] - ETA: 0s - loss: 0.6256 - acc: 0.8030Epoch 00026: val_loss did not improve\n",
      "6680/6680 [==============================] - 0s - loss: 0.6259 - acc: 0.8028 - val_loss: 0.9111 - val_acc: 0.7581\n",
      "Epoch 28/50\n",
      "6400/6680 [===========================>..] - ETA: 0s - loss: 0.5679 - acc: 0.8177Epoch 00027: val_loss did not improve\n",
      "6680/6680 [==============================] - 0s - loss: 0.5731 - acc: 0.8163 - val_loss: 0.8581 - val_acc: 0.7533\n",
      "Epoch 29/50\n",
      "6272/6680 [===========================>..] - ETA: 0s - loss: 0.5738 - acc: 0.8133Epoch 00028: val_loss did not improve\n"
     ]
    },
    {
     "name": "stdout",
     "output_type": "stream",
     "text": [
      "6680/6680 [==============================] - 0s - loss: 0.5819 - acc: 0.8112 - val_loss: 0.8575 - val_acc: 0.7413\n",
      "Epoch 30/50\n",
      "6656/6680 [============================>.] - ETA: 0s - loss: 0.5806 - acc: 0.8173Epoch 00029: val_loss did not improve\n",
      "6680/6680 [==============================] - 0s - loss: 0.5805 - acc: 0.8177 - val_loss: 0.8740 - val_acc: 0.7545\n",
      "Epoch 31/50\n",
      "6656/6680 [============================>.] - ETA: 0s - loss: 0.5506 - acc: 0.8227Epoch 00030: val_loss did not improve\n",
      "6680/6680 [==============================] - 0s - loss: 0.5513 - acc: 0.8222 - val_loss: 0.9685 - val_acc: 0.7401\n",
      "Epoch 32/50\n",
      "6400/6680 [===========================>..] - ETA: 0s - loss: 0.5590 - acc: 0.8250Epoch 00031: val_loss did not improve\n",
      "6680/6680 [==============================] - 0s - loss: 0.5541 - acc: 0.8259 - val_loss: 0.8658 - val_acc: 0.7665\n",
      "Epoch 33/50\n",
      "6400/6680 [===========================>..] - ETA: 0s - loss: 0.5500 - acc: 0.8275Epoch 00032: val_loss improved from 0.81242 to 0.80691, saving model to saved_models/weights.best.vGG19.hdf5\n",
      "6680/6680 [==============================] - 0s - loss: 0.5523 - acc: 0.8268 - val_loss: 0.8069 - val_acc: 0.7713\n",
      "Epoch 34/50\n",
      "6272/6680 [===========================>..] - ETA: 0s - loss: 0.5116 - acc: 0.8388Epoch 00033: val_loss did not improve\n",
      "6680/6680 [==============================] - 0s - loss: 0.5200 - acc: 0.8362 - val_loss: 0.8791 - val_acc: 0.7713\n",
      "Epoch 35/50\n",
      "6400/6680 [===========================>..] - ETA: 0s - loss: 0.4955 - acc: 0.8392Epoch 00034: val_loss did not improve\n",
      "6680/6680 [==============================] - 0s - loss: 0.4991 - acc: 0.8386 - val_loss: 0.9077 - val_acc: 0.7653\n",
      "Epoch 36/50\n",
      "6400/6680 [===========================>..] - ETA: 0s - loss: 0.5105 - acc: 0.8408Epoch 00035: val_loss did not improve\n",
      "6680/6680 [==============================] - 0s - loss: 0.5133 - acc: 0.8397 - val_loss: 0.9308 - val_acc: 0.7545\n",
      "Epoch 37/50\n",
      "6400/6680 [===========================>..] - ETA: 0s - loss: 0.4792 - acc: 0.8467Epoch 00036: val_loss did not improve\n",
      "6680/6680 [==============================] - 0s - loss: 0.4754 - acc: 0.8482 - val_loss: 0.9604 - val_acc: 0.7653\n",
      "Epoch 38/50\n",
      "6144/6680 [==========================>...] - ETA: 0s - loss: 0.4687 - acc: 0.8507Epoch 00037: val_loss did not improve\n",
      "6680/6680 [==============================] - 0s - loss: 0.4767 - acc: 0.8490 - val_loss: 0.8947 - val_acc: 0.7629\n",
      "Epoch 39/50\n",
      "6016/6680 [==========================>...] - ETA: 0s - loss: 0.4914 - acc: 0.8452Epoch 00038: val_loss did not improve\n",
      "6680/6680 [==============================] - 0s - loss: 0.4888 - acc: 0.8461 - val_loss: 0.9205 - val_acc: 0.7605\n",
      "Epoch 40/50\n",
      "6400/6680 [===========================>..] - ETA: 0s - loss: 0.4397 - acc: 0.8584Epoch 00039: val_loss did not improve\n",
      "6680/6680 [==============================] - 0s - loss: 0.4396 - acc: 0.8581 - val_loss: 0.9595 - val_acc: 0.7629\n",
      "Epoch 41/50\n",
      "6272/6680 [===========================>..] - ETA: 0s - loss: 0.4410 - acc: 0.8610Epoch 00040: val_loss did not improve\n",
      "6680/6680 [==============================] - 0s - loss: 0.4383 - acc: 0.8617 - val_loss: 0.9310 - val_acc: 0.7545\n",
      "Epoch 42/50\n",
      "5888/6680 [=========================>....] - ETA: 0s - loss: 0.4675 - acc: 0.8441Epoch 00041: val_loss did not improve\n",
      "6680/6680 [==============================] - 0s - loss: 0.4645 - acc: 0.8458 - val_loss: 0.9138 - val_acc: 0.7641\n",
      "Epoch 43/50\n",
      "6656/6680 [============================>.] - ETA: 0s - loss: 0.4497 - acc: 0.8573Epoch 00042: val_loss did not improve\n",
      "6680/6680 [==============================] - 0s - loss: 0.4494 - acc: 0.8573 - val_loss: 0.9294 - val_acc: 0.7569\n",
      "Epoch 44/50\n",
      "6272/6680 [===========================>..] - ETA: 0s - loss: 0.4329 - acc: 0.8568Epoch 00043: val_loss did not improve\n",
      "6680/6680 [==============================] - 0s - loss: 0.4339 - acc: 0.8575 - val_loss: 0.9420 - val_acc: 0.7461\n",
      "Epoch 45/50\n",
      "6656/6680 [============================>.] - ETA: 0s - loss: 0.4426 - acc: 0.8607Epoch 00044: val_loss did not improve\n",
      "6680/6680 [==============================] - 0s - loss: 0.4435 - acc: 0.8608 - val_loss: 0.9639 - val_acc: 0.7593\n",
      "Epoch 46/50\n",
      "5760/6680 [========================>.....] - ETA: 0s - loss: 0.4441 - acc: 0.8628Epoch 00045: val_loss did not improve\n",
      "6680/6680 [==============================] - 0s - loss: 0.4463 - acc: 0.8630 - val_loss: 0.9282 - val_acc: 0.7617\n",
      "Epoch 47/50\n",
      "6016/6680 [==========================>...] - ETA: 0s - loss: 0.3985 - acc: 0.8687Epoch 00046: val_loss did not improve\n",
      "6680/6680 [==============================] - 0s - loss: 0.3966 - acc: 0.8705 - val_loss: 0.9875 - val_acc: 0.7689\n",
      "Epoch 48/50\n",
      "6528/6680 [============================>.] - ETA: 0s - loss: 0.4082 - acc: 0.8692Epoch 00047: val_loss did not improve\n",
      "6680/6680 [==============================] - 0s - loss: 0.4061 - acc: 0.8702 - val_loss: 0.9648 - val_acc: 0.7689\n",
      "Epoch 49/50\n",
      "6528/6680 [============================>.] - ETA: 0s - loss: 0.4122 - acc: 0.8667Epoch 00048: val_loss did not improve\n",
      "6680/6680 [==============================] - 0s - loss: 0.4117 - acc: 0.8674 - val_loss: 0.9640 - val_acc: 0.7665\n",
      "Epoch 50/50\n",
      "6528/6680 [============================>.] - ETA: 0s - loss: 0.3890 - acc: 0.8752Epoch 00049: val_loss did not improve\n",
      "6680/6680 [==============================] - 0s - loss: 0.3943 - acc: 0.8744 - val_loss: 0.9802 - val_acc: 0.7725\n"
     ]
    },
    {
     "data": {
      "text/plain": [
       "<keras.callbacks.History at 0x7f38ac4d5b00>"
      ]
     },
     "execution_count": 38,
     "metadata": {},
     "output_type": "execute_result"
    }
   ],
   "source": [
    "### TODO: Train the model.\n",
    "from keras.preprocessing.image import ImageDataGenerator\n",
    "\n",
    "checkpointer = ModelCheckpoint(filepath='saved_models/weights.best.vGG19.hdf5',\n",
    "                               verbose=1, save_best_only=True)\n",
    "\n",
    "VGG19_model.fit(train_VGG19, train_targets, \n",
    "          validation_data=(valid_VGG19, valid_targets),\n",
    "          epochs=50, batch_size=128, callbacks=[checkpointer], verbose=1)"
   ]
  },
  {
   "cell_type": "markdown",
   "metadata": {},
   "source": [
    "### (IMPLEMENTATION) Load the Model with the Best Validation Loss"
   ]
  },
  {
   "cell_type": "code",
   "execution_count": 39,
   "metadata": {},
   "outputs": [],
   "source": [
    "### TODO: Load the model weights with the best validation loss.\n",
    "\n",
    "VGG19_model.load_weights('saved_models/weights.best.vGG19.hdf5')"
   ]
  },
  {
   "cell_type": "markdown",
   "metadata": {},
   "source": [
    "### (IMPLEMENTATION) Test the Model\n",
    "\n",
    "Try out your model on the test dataset of dog images. Ensure that your test accuracy is greater than 60%."
   ]
  },
  {
   "cell_type": "code",
   "execution_count": 50,
   "metadata": {},
   "outputs": [
    {
     "name": "stdout",
     "output_type": "stream",
     "text": [
      "Test accuracy: 77.1531%\n"
     ]
    }
   ],
   "source": [
    "### TODO: Calculate classification accuracy on the test dataset.\n",
    "\n",
    "# get index of predicted dog breed for each image in test set\n",
    "vgg19_pred = [np.argmax(VGG19_model.predict(np.expand_dims(feature, axis=0))) for feature in test_VGG19]\n",
    "\n",
    "# report test accuracy\n",
    "test_accuracy = 100*np.sum(np.array(vgg19_pred)==np.argmax(test_targets, axis=1))/len(vgg19_pred)\n",
    "print('Test accuracy: %.4f%%' % test_accuracy)"
   ]
  },
  {
   "cell_type": "markdown",
   "metadata": {},
   "source": [
    "### (IMPLEMENTATION) Predict Dog Breed with the Model\n",
    "\n",
    "Write a function that takes an image path as input and returns the dog breed (`Affenpinscher`, `Afghan_hound`, etc) that is predicted by your model.  \n",
    "\n",
    "Similar to the analogous function in Step 5, your function should have three steps:\n",
    "1. Extract the bottleneck features corresponding to the chosen CNN model.\n",
    "2. Supply the bottleneck features as input to the model to return the predicted vector.  Note that the argmax of this prediction vector gives the index of the predicted dog breed.\n",
    "3. Use the `dog_names` array defined in Step 0 of this notebook to return the corresponding breed.\n",
    "\n",
    "The functions to extract the bottleneck features can be found in `extract_bottleneck_features.py`, and they have been imported in an earlier code cell.  To obtain the bottleneck features corresponding to your chosen CNN architecture, you need to use the function\n",
    "\n",
    "    extract_{network}\n",
    "    \n",
    "where `{network}`, in the above filename, should be one of `VGG19`, `Resnet50`, `InceptionV3`, or `Xception`."
   ]
  },
  {
   "cell_type": "code",
   "execution_count": 41,
   "metadata": {},
   "outputs": [],
   "source": [
    "### TODO: Write a function that takes a path to an image as input\n",
    "### and returns the dog breed that is predicted by the model\n",
    "\n",
    "def VGG19_predict_breed(img_path):\n",
    "    bottleneck_feature = extract_VGG19(path_to_tensor(img_path))\n",
    "    \n",
    "    predicted_vector = VGG19_model.predict(bottleneck_feature)\n",
    "    \n",
    "    return dog_names[np.argmax(predicted_vector)]"
   ]
  },
  {
   "cell_type": "markdown",
   "metadata": {},
   "source": [
    "---\n",
    "<a id='step6'></a>\n",
    "## Step 6: Write your Algorithm\n",
    "\n",
    "Write an algorithm that accepts a file path to an image and first determines whether the image contains a human, dog, or neither.  Then,\n",
    "- if a __dog__ is detected in the image, return the predicted breed.\n",
    "- if a __human__ is detected in the image, return the resembling dog breed.\n",
    "- if __neither__ is detected in the image, provide output that indicates an error.\n",
    "\n",
    "You are welcome to write your own functions for detecting humans and dogs in images, but feel free to use the `face_detector` and `dog_detector` functions developed above.  You are __required__ to use your CNN from Step 5 to predict dog breed.  \n",
    "\n",
    "Some sample output for our algorithm is provided below, but feel free to design your own user experience!\n",
    "\n",
    "![Sample Human Output](images/sample_human_output.png)\n",
    "\n",
    "\n",
    "### (IMPLEMENTATION) Write your Algorithm"
   ]
  },
  {
   "cell_type": "code",
   "execution_count": 42,
   "metadata": {},
   "outputs": [],
   "source": [
    "### TODO: Write your algorithm.\n",
    "### Feel free to use as many code cells as needed.\n",
    "\n",
    "def test_with(image):\n",
    "    \"\"\" takes a file name and folder name and makes a prediction\"\"\"\n",
    "    if face_detector(image):\n",
    "        breed = VGG19_predict_breed(image)\n",
    "        print(\"The model founds an Human\")\n",
    "        print(\"Picture Name: {0}        '\\n' Breed Predcited: {1}\".format(image, breed))\n",
    "        print(\"##########################\")\n",
    "\n",
    "    elif dog_detector(image):\n",
    "        breed = VGG19_predict_breed(image)\n",
    "        print(\"The model founds an Dog\")\n",
    "        print(\"Picture Name: {0}        '\\n' Breed Predcited: {1}\".format(image, breed))\n",
    "        print(\"##########################\")\n",
    "        \n",
    "    else:\n",
    "        print(\"Neither Human or Dog\")\n",
    "        print(\"Picture Name: {0}        '\\n' test: {1}\".format(image, \"N/A\"))\n",
    "        print(\"##########################\")        "
   ]
  },
  {
   "cell_type": "markdown",
   "metadata": {},
   "source": [
    "---\n",
    "<a id='step7'></a>\n",
    "## Step 7: Test Your Algorithm\n",
    "\n",
    "In this section, you will take your new algorithm for a spin!  What kind of dog does the algorithm think that __you__ look like?  If you have a dog, does it predict your dog's breed accurately?  If you have a cat, does it mistakenly think that your cat is a dog?\n",
    "\n",
    "### (IMPLEMENTATION) Test Your Algorithm on Sample Images!\n",
    "\n",
    "Test your algorithm at least six images on your computer.  Feel free to use any images you like.  Use at least two human and two dog images.  \n",
    "\n",
    "__Question 6:__ Is the output better than you expected :) ?  Or worse :( ?  Provide at least three possible points of improvement for your algorithm.\n",
    "\n",
    "__Answer:__ "
   ]
  },
  {
   "cell_type": "code",
   "execution_count": 43,
   "metadata": {
    "scrolled": false
   },
   "outputs": [
    {
     "name": "stdout",
     "output_type": "stream",
     "text": [
      "The model founds an Dog\n",
      "Picture Name: test_pictures/Golden_retriever_05241.jpg        '\n",
      "' Breed Predcited: Golden_retriever\n",
      "##########################\n",
      "The model founds an Dog\n",
      "Picture Name: test_pictures/Ibizan_hound_05682.jpg        '\n",
      "' Breed Predcited: Ibizan_hound\n",
      "##########################\n",
      "The model founds an Human\n",
      "Picture Name: test_pictures/Kuvasz_06404.jpg        '\n",
      "' Breed Predcited: Great_pyrenees\n",
      "##########################\n",
      "The model founds an Dog\n",
      "Picture Name: test_pictures/Labrador_retriever_06449.jpg        '\n",
      "' Breed Predcited: Labrador_retriever\n",
      "##########################\n",
      "The model founds an Human\n",
      "Picture Name: test_pictures/meu_perfil.jpg        '\n",
      "' Breed Predcited: Maltese\n",
      "##########################\n",
      "Neither Human or Dog\n",
      "Picture Name: test_pictures/flor.jpg        '\n",
      "' test: N/A\n",
      "##########################\n"
     ]
    }
   ],
   "source": [
    "## TODO: Execute your algorithm from Step 6 on\n",
    "## at least 6 images on your computer.\n",
    "## Feel free to use as many code cells as needed.\n",
    "\n",
    "file_names = ['Golden_retriever_05241', 'Ibizan_hound_05682',\n",
    "              'Kuvasz_06404', 'Labrador_retriever_06449', 'meu_perfil', 'flor']\n",
    "\n",
    "\n",
    "file_names = list(map(lambda f:  \"test_pictures/\" + f + \".jpg\", file_names))\n",
    "# image_tensors = [path_to_tensor(file).astype('float32')/255 for file in file_names]\n",
    "# test_data = zip(file_names, image_tensors)\n",
    "\n",
    "for file_name in file_names:\n",
    "    test_with(file_name)"
   ]
  },
  {
   "cell_type": "markdown",
   "metadata": {},
   "source": [
    "## <b> Conclusão sobre teste: </b> <br>\n",
    "  \n",
    "Acho que o resultado foi bom para um primeiro modelo, e sei que pode melhorar bastante ainda,embora o modelo tenha reconhecido o cachorro como um rosto humano, a raça que ele preveu está correta pelo que verifiquei no google, porém, pelo visto essa raça tem dois nomes. \n",
    "\n",
    "Achei que o modelo teve um baixa acurácia por conta de eu ter utilizado apenas duas pequenas redes totalmente conectadas para fazer o serviço.\n",
    "\n",
    "Gostaria de um resultado como consegui no classificador de flores que fiz no Pytorch, por conta que lá consegui criar tanto o data augmentation e entendi muito bem como funcionava o transfer learning, pois aqui, deixou a desejar.\n",
    "\n",
    "    "
   ]
  },
  {
   "cell_type": "markdown",
   "metadata": {},
   "source": [
    "## Conclusão sobre o Projeto: \n",
    "\n",
    "\n",
    "Como citado acima, eu tive problemas para conseguir utilizar o data augmentation utilizando o mesmo modelo do exemplo do site. \n",
    "\n",
    "Como citei acima, também fiquei com bastante dúvidas sobre de onde tiro os parametros para fazer no classificador que irá ser substituido... Fiquei com a sensação de que foi simplesmente \"jogado\" para ser feito, sem maiores explicações para entender como tudo é construído e tal... \n",
    "\n",
    "Gostaria muito de ter alcançado uns 85 ~ 90% de acurácia utilizando o Data Augmentation, mas sempre deu erro. "
   ]
  },
  {
   "cell_type": "code",
   "execution_count": null,
   "metadata": {},
   "outputs": [],
   "source": []
  }
 ],
 "metadata": {
  "anaconda-cloud": {},
  "kernelspec": {
   "display_name": "Python [default]",
   "language": "python",
   "name": "python3"
  },
  "language_info": {
   "codemirror_mode": {
    "name": "ipython",
    "version": 3
   },
   "file_extension": ".py",
   "mimetype": "text/x-python",
   "name": "python",
   "nbconvert_exporter": "python",
   "pygments_lexer": "ipython3",
   "version": "3.6.5"
  }
 },
 "nbformat": 4,
 "nbformat_minor": 1
}
